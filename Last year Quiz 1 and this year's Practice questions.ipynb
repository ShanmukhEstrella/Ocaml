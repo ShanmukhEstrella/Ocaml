{
 "cells": [
  {
   "cell_type": "code",
   "execution_count": 1,
   "metadata": {},
   "outputs": [
    {
     "data": {
      "text/plain": [
       "- : (int * (int * (int * int))) list = [(0, (1, (2, 3)))]\n"
      ]
     },
     "execution_count": 1,
     "metadata": {},
     "output_type": "execute_result"
    }
   ],
   "source": [
    "[(0,(1,(2,3)))]"
   ]
  },
  {
   "cell_type": "code",
   "execution_count": 2,
   "metadata": {},
   "outputs": [
    {
     "data": {
      "text/plain": [
       "- : ('a -> 'b -> 'c) -> 'a -> 'b -> 'c = <fun>\n"
      ]
     },
     "execution_count": 2,
     "metadata": {},
     "output_type": "execute_result"
    }
   ],
   "source": [
    "fun x -> fun y -> fun z -> (x y) z"
   ]
  },
  {
   "cell_type": "code",
   "execution_count": 3,
   "metadata": {},
   "outputs": [
    {
     "data": {
      "text/plain": [
       "- : (int * int) list list = [[(1, 2)]]\n"
      ]
     },
     "execution_count": 3,
     "metadata": {},
     "output_type": "execute_result"
    }
   ],
   "source": [
    "[[(1, 2)]]"
   ]
  },
  {
   "cell_type": "code",
   "execution_count": 6,
   "metadata": {},
   "outputs": [
    {
     "data": {
      "text/plain": [
       "val func : ('a -> 'b) * 'a list * 'a list -> 'b list = <fun>\n"
      ]
     },
     "execution_count": 6,
     "metadata": {},
     "output_type": "execute_result"
    }
   ],
   "source": [
    "let func (f, l1, l2) =\n",
    "match l1 with\n",
    "| [] -> []\n",
    "| h1::t1 ->\n",
    "(match l2 with\n",
    "| [] -> [f h1]\n",
    "| h2::t2 -> [f h1; f h2])"
   ]
  },
  {
   "cell_type": "code",
   "execution_count": 10,
   "metadata": {},
   "outputs": [
    {
     "data": {
      "text/plain": [
       "val example : 'a * 'a -> bool list = <fun>\n"
      ]
     },
     "execution_count": 10,
     "metadata": {},
     "output_type": "execute_result"
    }
   ],
   "source": [
    "let example (x, y) = [x > y; x = y; x < y]"
   ]
  },
  {
   "cell_type": "code",
   "execution_count": 11,
   "metadata": {},
   "outputs": [
    {
     "data": {
      "text/plain": [
       "val f : 'a -> 'b -> ('b -> 'c) -> 'c = <fun>\n"
      ]
     },
     "execution_count": 11,
     "metadata": {},
     "output_type": "execute_result"
    }
   ],
   "source": [
    "let f x y g = g y"
   ]
  },
  {
   "cell_type": "code",
   "execution_count": 12,
   "metadata": {},
   "outputs": [
    {
     "data": {
      "text/plain": [
       "val g : 'a list -> 'b list -> ('a * 'b) list = <fun>\n"
      ]
     },
     "execution_count": 12,
     "metadata": {},
     "output_type": "execute_result"
    }
   ],
   "source": [
    "let g l1 l2 = [(List.hd l1, List.hd l2)]"
   ]
  },
  {
   "cell_type": "code",
   "execution_count": 44,
   "metadata": {},
   "outputs": [
    {
     "data": {
      "text/plain": [
       "- : int list = [0; 3; 5]\n"
      ]
     },
     "execution_count": 44,
     "metadata": {},
     "output_type": "execute_result"
    }
   ],
   "source": [
    "let f p l = \n",
    "    let rec g p l acc i =\n",
    "    match l with\n",
    "    | [] -> acc\n",
    "    | h::t ->\n",
    "    if(p h) then i::(g p t acc (i+1))\n",
    "    else (g p t acc (i+1))\n",
    "    in\n",
    "    g p l [] 0\n",
    "in\n",
    "f ((=) 3) [3;1;5;3;8;3]"
   ]
  },
  {
   "cell_type": "code",
   "execution_count": 38,
   "metadata": {},
   "outputs": [
    {
     "data": {
      "text/plain": [
       "exception Foo of int\n"
      ]
     },
     "execution_count": 38,
     "metadata": {},
     "output_type": "execute_result"
    },
    {
     "data": {
      "text/plain": [
       "val f1 : int -> int = <fun>\n"
      ]
     },
     "execution_count": 38,
     "metadata": {},
     "output_type": "execute_result"
    },
    {
     "data": {
      "text/plain": [
       "val f2 : int -> int option = <fun>\n"
      ]
     },
     "execution_count": 38,
     "metadata": {},
     "output_type": "execute_result"
    },
    {
     "data": {
      "text/plain": [
       "val ans : int option = Some 4\n"
      ]
     },
     "execution_count": 38,
     "metadata": {},
     "output_type": "execute_result"
    }
   ],
   "source": [
    "exception Foo of int\n",
    "let f1 x = if (x = 4) then x else raise ( Foo 2)\n",
    "let f2 y = try Some(f1 (y+1)) with _ -> None\n",
    "let ans = f2 3"
   ]
  },
  {
   "cell_type": "code",
   "execution_count": 25,
   "metadata": {},
   "outputs": [
    {
     "data": {
      "text/plain": [
       "- : bool = true\n"
      ]
     },
     "execution_count": 25,
     "metadata": {},
     "output_type": "execute_result"
    }
   ],
   "source": [
    "4.0 > 3.0"
   ]
  },
  {
   "cell_type": "code",
   "execution_count": 45,
   "metadata": {},
   "outputs": [
    {
     "data": {
      "text/plain": [
       "val foo : ('a -> 'b * int) -> ('a -> 'b * int) -> 'a list -> 'b list = <fun>\n"
      ]
     },
     "execution_count": 45,
     "metadata": {},
     "output_type": "execute_result"
    }
   ],
   "source": [
    "let rec foo f g l =\n",
    "match l with\n",
    "| [] -> []\n",
    "| x :: xs ->\n",
    "let (y1,i1) = f x in\n",
    "let (y2,i2) = g x in\n",
    "(if i1 >= i2 + 1 then y1 else y2) :: (foo f g xs)"
   ]
  },
  {
   "cell_type": "code",
   "execution_count": 46,
   "metadata": {},
   "outputs": [
    {
     "data": {
      "text/plain": [
       "- : int list = [1; 0; 2; 0]\n"
      ]
     },
     "execution_count": 46,
     "metadata": {},
     "output_type": "execute_result"
    }
   ],
   "source": [
    "foo (fun x -> (0,x*2)) (fun x -> (x+1,x+1)) [0;2;1;3]"
   ]
  },
  {
   "cell_type": "code",
   "execution_count": 47,
   "metadata": {},
   "outputs": [
    {
     "data": {
      "text/plain": [
       "- : int list -> int list = <fun>\n"
      ]
     },
     "execution_count": 47,
     "metadata": {},
     "output_type": "execute_result"
    }
   ],
   "source": [
    "foo (fun x -> (x,x)) (fun x -> (0-x,0-x))"
   ]
  },
  {
   "cell_type": "code",
   "execution_count": 49,
   "metadata": {},
   "outputs": [
    {
     "data": {
      "text/plain": [
       "val y : int = 17\n"
      ]
     },
     "execution_count": 49,
     "metadata": {},
     "output_type": "execute_result"
    },
    {
     "data": {
      "text/plain": [
       "val f : int -> int -> int = <fun>\n"
      ]
     },
     "execution_count": 49,
     "metadata": {},
     "output_type": "execute_result"
    },
    {
     "data": {
      "text/plain": [
       "val y : int = 3\n"
      ]
     },
     "execution_count": 49,
     "metadata": {},
     "output_type": "execute_result"
    },
    {
     "data": {
      "text/plain": [
       "val ans : int = 28\n"
      ]
     },
     "execution_count": 49,
     "metadata": {},
     "output_type": "execute_result"
    }
   ],
   "source": [
    "let y = 17\n",
    "let f x =\n",
    "let z = y in\n",
    "(fun q -> z + q + x )\n",
    "let y = 3\n",
    "let ans = ( f 8 ) y"
   ]
  },
  {
   "cell_type": "code",
   "execution_count": 51,
   "metadata": {},
   "outputs": [
    {
     "ename": "error",
     "evalue": "compile_error",
     "output_type": "error",
     "traceback": [
      "File \"[51]\", line 4, characters 13-18:\n4 | | x :: [] -> x + 1\n                 ^^^^^\nError: This expression has type int but an expression was expected of type\n         int list\n"
     ]
    }
   ],
   "source": [
    "let rec f3 x s =\n",
    "match x s with\n",
    "| [] -> 0 :: []\n",
    "| x :: [] -> x + 1\n",
    "| x :: xs -> ( x + 1 ) :: ( f3 x s )\n",
    "let ans = f3 [1]"
   ]
  },
  {
   "cell_type": "code",
   "execution_count": 53,
   "metadata": {},
   "outputs": [
    {
     "data": {
      "text/plain": [
       "type foo = A of int | B of string * foo\n"
      ]
     },
     "execution_count": 53,
     "metadata": {},
     "output_type": "execute_result"
    },
    {
     "data": {
      "text/plain": [
       "exception Danger\n"
      ]
     },
     "execution_count": 53,
     "metadata": {},
     "output_type": "execute_result"
    },
    {
     "data": {
      "text/plain": [
       "val m : foo -> int = <fun>\n"
      ]
     },
     "execution_count": 53,
     "metadata": {},
     "output_type": "execute_result"
    },
    {
     "data": {
      "text/plain": [
       "val ans : int = 34\n"
      ]
     },
     "execution_count": 53,
     "metadata": {},
     "output_type": "execute_result"
    }
   ],
   "source": [
    "type foo = A of int | B of string * foo\n",
    "exception Danger\n",
    "let rec m x =\n",
    "match x with\n",
    "| A i -> if i = 7 then raise Danger else 34\n",
    "| B (_,r) -> m r\n",
    "let ans = try m (B(\"hi\" ,B ( \"bye\" , A 6 ) ) ) with Danger -> 19"
   ]
  },
  {
   "cell_type": "code",
   "execution_count": 54,
   "metadata": {},
   "outputs": [
    {
     "data": {
      "text/plain": [
       "val f : 'a -> 'b -> 'a * int * 'b = <fun>\n"
      ]
     },
     "execution_count": 54,
     "metadata": {},
     "output_type": "execute_result"
    }
   ],
   "source": [
    "let f x y = (x , 4 , y)"
   ]
  },
  {
   "cell_type": "code",
   "execution_count": 60,
   "metadata": {},
   "outputs": [
    {
     "name": "stderr",
     "output_type": "stream",
     "text": [
      "File \"[60]\", lines 1-3, characters 8-11:\n",
      "1 | ........[(0,true)] = \n",
      "2 |  if(x) then [1;2;3]\n",
      "3 |  else [2;4]\n",
      "Warning 8: this pattern-matching is not exhaustive.\n",
      "Here is an example of a case that is not matched:\n",
      "((0, false)::_|(1, _)::_|[])\n"
     ]
    },
    {
     "data": {
      "text/plain": [
       "val f : bool -> (int * bool) list -> int list = <fun>\n"
      ]
     },
     "execution_count": 60,
     "metadata": {},
     "output_type": "execute_result"
    }
   ],
   "source": [
    "let f x [(0,true)] = \n",
    " if(x) then [1;2;3]\n",
    " else [2;4]"
   ]
  },
  {
   "cell_type": "code",
   "execution_count": 68,
   "metadata": {},
   "outputs": [
    {
     "data": {
      "text/plain": [
       "type tree = I of int | S of string | N of tree * tree\n"
      ]
     },
     "execution_count": 68,
     "metadata": {},
     "output_type": "execute_result"
    }
   ],
   "source": [
    "type tree =\n",
    "| I of int\n",
    "| S of string\n",
    "| N of tree * tree"
   ]
  },
  {
   "cell_type": "code",
   "execution_count": 69,
   "metadata": {},
   "outputs": [
    {
     "data": {
      "text/plain": [
       "val bt : tree = N (I 4, N (I 6, S \"J\"))\n"
      ]
     },
     "execution_count": 69,
     "metadata": {},
     "output_type": "execute_result"
    }
   ],
   "source": [
    "let bt = N(I(4),N(I(6),S(\"J\")))"
   ]
  },
  {
   "cell_type": "code",
   "execution_count": 78,
   "metadata": {},
   "outputs": [
    {
     "data": {
      "text/plain": [
       "val sum : tree -> int = <fun>\n"
      ]
     },
     "execution_count": 78,
     "metadata": {},
     "output_type": "execute_result"
    }
   ],
   "source": [
    "let rec sum tree = \n",
    "match tree with\n",
    "| I(x) -> x\n",
    "| S(_) -> 0\n",
    "| N(left,right) -> (sum left) + (sum right)"
   ]
  },
  {
   "cell_type": "code",
   "execution_count": 92,
   "metadata": {},
   "outputs": [
    {
     "data": {
      "text/plain": [
       "val f : int list * int list -> int option = <fun>\n"
      ]
     },
     "execution_count": 92,
     "metadata": {},
     "output_type": "execute_result"
    }
   ],
   "source": [
    "let rec f(xs,ys) =\n",
    "match ( xs , ys ) with\n",
    "| ([ ] , [  ]) -> Some 0\n",
    "| ( x :: [ ] , y :: [ ] ) -> Some ( x + y )\n",
    "| ( x1 :: x2 :: [ ] , y1 :: y2 :: [ ] ) -> Some ( x1 + x2 + y1 + y2 )\n",
    "| ( x1 :: x2 :: xs' , y1 :: y2 :: ys') -> f ( xs' , ys' )\n",
    "| _ -> None"
   ]
  },
  {
   "cell_type": "code",
   "execution_count": 85,
   "metadata": {},
   "outputs": [
    {
     "data": {
      "text/plain": [
       "- : int option = Some 13\n"
      ]
     },
     "execution_count": 85,
     "metadata": {},
     "output_type": "execute_result"
    }
   ],
   "source": [
    "f([3],[10])"
   ]
  },
  {
   "cell_type": "code",
   "execution_count": 86,
   "metadata": {},
   "outputs": [
    {
     "data": {
      "text/plain": [
       "- : int option = Some 28\n"
      ]
     },
     "execution_count": 86,
     "metadata": {},
     "output_type": "execute_result"
    }
   ],
   "source": [
    "f([3;4],[10;11])"
   ]
  },
  {
   "cell_type": "code",
   "execution_count": 87,
   "metadata": {},
   "outputs": [
    {
     "data": {
      "text/plain": [
       "- : int option = Some 17\n"
      ]
     },
     "execution_count": 87,
     "metadata": {},
     "output_type": "execute_result"
    }
   ],
   "source": [
    "f([3;4;5],[10;11;12])"
   ]
  },
  {
   "cell_type": "code",
   "execution_count": 88,
   "metadata": {},
   "outputs": [
    {
     "data": {
      "text/plain": [
       "- : int option = Some 36\n"
      ]
     },
     "execution_count": 88,
     "metadata": {},
     "output_type": "execute_result"
    }
   ],
   "source": [
    "f([3;4;5;6],[10;11;12;13])"
   ]
  },
  {
   "cell_type": "code",
   "execution_count": 89,
   "metadata": {},
   "outputs": [
    {
     "data": {
      "text/plain": [
       "- : int option = None\n"
      ]
     },
     "execution_count": 89,
     "metadata": {},
     "output_type": "execute_result"
    }
   ],
   "source": [
    "f([3],[4;5;6])"
   ]
  },
  {
   "cell_type": "code",
   "execution_count": 42,
   "metadata": {},
   "outputs": [
    {
     "data": {
      "text/plain": [
       "type 'a tree = Leaf | Node of 'a tree * 'a * 'a tree\n"
      ]
     },
     "execution_count": 42,
     "metadata": {},
     "output_type": "execute_result"
    },
    {
     "data": {
      "text/plain": [
       "val fold_preorder : ('a -> 'b -> 'a) -> 'a -> 'b tree -> 'a = <fun>\n"
      ]
     },
     "execution_count": 42,
     "metadata": {},
     "output_type": "execute_result"
    }
   ],
   "source": [
    "type 'a tree =\n",
    "  | Leaf\n",
    "  | Node of 'a tree * 'a * 'a tree\n",
    "\n",
    "let fold_preorder f acc t =\n",
    "  let rec aux acc stack =\n",
    "    match stack with\n",
    "    | [] -> acc\n",
    "    | Leaf :: rest -> aux acc rest\n",
    "    | Node (left, x, right) :: rest ->\n",
    "        let new_acc = f acc x in\n",
    "        aux new_acc (left :: right :: rest)\n",
    "  in\n",
    "  aux acc [t]"
   ]
  },
  {
   "cell_type": "code",
   "execution_count": 4,
   "metadata": {},
   "outputs": [
    {
     "data": {
      "text/plain": [
       "- : int list = [2; 1; 3]\n"
      ]
     },
     "execution_count": 4,
     "metadata": {},
     "output_type": "execute_result"
    }
   ],
   "source": [
    "fold_preorder (fun acc x -> acc @ [x]) [] (Node (Node (Leaf ,1, Leaf ) , 2, Node (\n",
    "Leaf ,3, Leaf )))"
   ]
  },
  {
   "cell_type": "code",
   "execution_count": 6,
   "metadata": {},
   "outputs": [
    {
     "data": {
      "text/plain": [
       "type 'a tree = Leaf | Node of 'a tree * 'a * 'a tree\n"
      ]
     },
     "execution_count": 6,
     "metadata": {},
     "output_type": "execute_result"
    },
    {
     "data": {
      "text/plain": [
       "val fold_postorder : ('a -> 'b -> 'a) -> 'a -> 'b tree -> 'a = <fun>\n"
      ]
     },
     "execution_count": 6,
     "metadata": {},
     "output_type": "execute_result"
    }
   ],
   "source": [
    "type 'a tree =\n",
    "  | Leaf\n",
    "  | Node of 'a tree * 'a * 'a tree\n",
    "\n",
    "let fold_postorder f acc t =\n",
    "  let rec aux acc stack visited =\n",
    "    match stack with\n",
    "    | [] -> acc\n",
    "    | Leaf :: rest -> aux acc rest visited\n",
    "    | Node (left, x, right) :: rest ->\n",
    "        if List.mem x visited then\n",
    "          (* Node has already been visited, so process it *)\n",
    "          aux (f acc x) rest visited\n",
    "        else\n",
    "          (* Mark the node as visited and push it back to the stack with its children *)\n",
    "          aux acc (left :: right :: Node (Leaf, x, Leaf) :: rest) (x :: visited)\n",
    "  in\n",
    "  aux acc [t] []"
   ]
  },
  {
   "cell_type": "code",
   "execution_count": 7,
   "metadata": {},
   "outputs": [
    {
     "data": {
      "text/plain": [
       "- : int list = [1; 3; 2]\n"
      ]
     },
     "execution_count": 7,
     "metadata": {},
     "output_type": "execute_result"
    }
   ],
   "source": [
    "fold_postorder (fun acc x -> acc @ [x]) [] (Node (Node (Leaf ,1, Leaf ) , 2, Node (\n",
    "Leaf ,3, Leaf )))"
   ]
  },
  {
   "cell_type": "code",
   "execution_count": 17,
   "metadata": {},
   "outputs": [
    {
     "data": {
      "text/plain": [
       "type 'a tree = Leaf | Node of 'a tree * 'a * 'a tree\n"
      ]
     },
     "execution_count": 17,
     "metadata": {},
     "output_type": "execute_result"
    },
    {
     "data": {
      "text/plain": [
       "val fold_inorder : ('a -> 'b -> 'a) -> 'a -> 'b tree -> 'a = <fun>\n"
      ]
     },
     "execution_count": 17,
     "metadata": {},
     "output_type": "execute_result"
    }
   ],
   "source": [
    "type 'a tree =\n",
    "  | Leaf\n",
    "  | Node of 'a tree * 'a * 'a tree\n",
    "\n",
    "let fold_inorder f acc t =\n",
    "  let rec aux acc stack =\n",
    "    match stack with\n",
    "    | [] -> acc\n",
    "    | (Leaf, acc) :: rest -> aux acc rest\n",
    "    | (Node (left, x, right), acc) :: rest ->\n",
    "        (* Traverse the left subtree first, so we push the current node and right subtree back onto the stack *)\n",
    "        aux acc ((left, acc) :: (Leaf, f acc x) :: (right, acc) :: rest)\n",
    "  in\n",
    "  aux acc [(t, acc)]\n"
   ]
  },
  {
   "cell_type": "code",
   "execution_count": 18,
   "metadata": {},
   "outputs": [
    {
     "data": {
      "text/plain": [
       "- : int list = []\n"
      ]
     },
     "execution_count": 18,
     "metadata": {},
     "output_type": "execute_result"
    }
   ],
   "source": [
    "fold_inorder (fun acc x -> acc @ [x]) [] (Node (Node (Leaf ,1, Leaf ),2 ,Node(Leaf ,3, Leaf)))"
   ]
  },
  {
   "cell_type": "code",
   "execution_count": 19,
   "metadata": {},
   "outputs": [
    {
     "data": {
      "text/plain": [
       "type 'a tree = Leaf | Node of 'a tree * 'a * 'a tree\n"
      ]
     },
     "execution_count": 19,
     "metadata": {},
     "output_type": "execute_result"
    },
    {
     "data": {
      "text/plain": [
       "val fold_levelorder : ('a -> 'b -> 'a) -> 'a -> 'b tree -> 'a = <fun>\n"
      ]
     },
     "execution_count": 19,
     "metadata": {},
     "output_type": "execute_result"
    }
   ],
   "source": [
    "type 'a tree =\n",
    "  | Leaf\n",
    "  | Node of 'a tree * 'a * 'a tree\n",
    "\n",
    "let fold_levelorder f acc t =\n",
    "  let rec aux acc queue =\n",
    "    match queue with\n",
    "    | [] -> acc\n",
    "    | Leaf :: rest -> aux acc rest\n",
    "    | Node (left, x, right) :: rest ->\n",
    "        let new_acc = f acc x in\n",
    "        (* Add the left and right children to the queue *)\n",
    "        aux new_acc (rest @ [left; right])\n",
    "  in\n",
    "  aux acc [t]\n"
   ]
  },
  {
   "cell_type": "code",
   "execution_count": 20,
   "metadata": {},
   "outputs": [
    {
     "data": {
      "text/plain": [
       "- : int list = [2; 1; 3]\n"
      ]
     },
     "execution_count": 20,
     "metadata": {},
     "output_type": "execute_result"
    }
   ],
   "source": [
    "fold_levelorder (fun acc x -> acc @ [x]) [] (Node (Node (Leaf ,1, Leaf ),2 ,Node(Leaf ,3, Leaf)))"
   ]
  },
  {
   "cell_type": "code",
   "execution_count": 22,
   "metadata": {},
   "outputs": [
    {
     "data": {
      "text/plain": [
       "type tree = I of int | S of string | N of tree * tree\n"
      ]
     },
     "execution_count": 22,
     "metadata": {},
     "output_type": "execute_result"
    }
   ],
   "source": [
    "type tree =\n",
    "| I of int\n",
    "| S of string\n",
    "| N of tree * tree"
   ]
  },
  {
   "cell_type": "code",
   "execution_count": 25,
   "metadata": {},
   "outputs": [
    {
     "data": {
      "text/plain": [
       "val stringify : tree -> tree = <fun>\n"
      ]
     },
     "execution_count": 25,
     "metadata": {},
     "output_type": "execute_result"
    }
   ],
   "source": [
    "let rec stringify t =\n",
    "  match t with\n",
    "  | I(i) -> S (string_of_int i)      (* Replace integer leaf with string leaf *)\n",
    "  | S(s) -> S(s)                      (* Keep string leaf as it is *)\n",
    "  | N (left, right) -> N (stringify left, stringify right)  (* Recursively process both subtrees *)"
   ]
  },
  {
   "cell_type": "code",
   "execution_count": 28,
   "metadata": {},
   "outputs": [
    {
     "data": {
      "text/plain": [
       "- : tree = N (S \"3\", N (S \"Hi\", S \"4\"))\n"
      ]
     },
     "execution_count": 28,
     "metadata": {},
     "output_type": "execute_result"
    }
   ],
   "source": [
    "stringify (N(I(3),N(S(\"Hi\"),I(4))))"
   ]
  },
  {
   "cell_type": "code",
   "execution_count": 43,
   "metadata": {},
   "outputs": [
    {
     "data": {
      "text/plain": [
       "type tree = I of int | S of string | N of tree * tree\n"
      ]
     },
     "execution_count": 43,
     "metadata": {},
     "output_type": "execute_result"
    }
   ],
   "source": [
    "type tree =\n",
    "| I of int\n",
    "| S of string\n",
    "| N of tree *  tree"
   ]
  },
  {
   "cell_type": "code",
   "execution_count": 46,
   "metadata": {},
   "outputs": [
    {
     "data": {
      "text/plain": [
       "val int_of_string_opt : string -> int option = <fun>\n"
      ]
     },
     "execution_count": 46,
     "metadata": {},
     "output_type": "execute_result"
    },
    {
     "data": {
      "text/plain": [
       "val intify : tree -> tree = <fun>\n"
      ]
     },
     "execution_count": 46,
     "metadata": {},
     "output_type": "execute_result"
    }
   ],
   "source": [
    "let int_of_string_opt s =\n",
    "  try Some (int_of_string s) with\n",
    "  | _ -> None\n",
    "let rec intify t =\n",
    "  match t with\n",
    "  | I (i) -> I (i)                         (* Keep integer leaves unchanged *)\n",
    "  | S (s) -> (\n",
    "      match int_of_string_opt s with   (* Use int_of_string_opt to get an option *)\n",
    "      | Some(i) -> I (i)                  (* Convert to integer leaf if possible *)\n",
    "      | None -> S (s)                   (* Keep string leaf unchanged if not an integer *)\n",
    "    )\n",
    "  | N (left, right) -> N (intify left, intify right)\n"
   ]
  },
  {
   "cell_type": "code",
   "execution_count": 48,
   "metadata": {},
   "outputs": [
    {
     "data": {
      "text/plain": [
       "- : tree = N (I 3, N (S \"Hi\", I 7))\n"
      ]
     },
     "execution_count": 48,
     "metadata": {},
     "output_type": "execute_result"
    }
   ],
   "source": [
    "intify (N(I(3),N(S(\"Hi\"),S(\"7\"))))"
   ]
  },
  {
   "cell_type": "code",
   "execution_count": null,
   "metadata": {},
   "outputs": [],
   "source": []
  }
 ],
 "metadata": {
  "kernelspec": {
   "display_name": "OCaml 4.10",
   "language": "OCaml",
   "name": "ocaml-jupyter"
  },
  "language_info": {
   "codemirror_mode": "text/x-ocaml",
   "file_extension": ".ml",
   "mimetype": "text/x-ocaml",
   "name": "OCaml",
   "nbconverter_exporter": null,
   "pygments_lexer": "OCaml",
   "version": "4.10.0"
  }
 },
 "nbformat": 4,
 "nbformat_minor": 4
}
