{
 "cells": [
  {
   "cell_type": "code",
   "execution_count": 1,
   "metadata": {},
   "outputs": [
    {
     "data": {
      "text/plain": [
       "val a : string = \"shannu\"\n"
      ]
     },
     "execution_count": 1,
     "metadata": {},
     "output_type": "execute_result"
    },
    {
     "data": {
      "text/plain": [
       "- : string = \"annu\"\n"
      ]
     },
     "execution_count": 1,
     "metadata": {},
     "output_type": "execute_result"
    }
   ],
   "source": [
    "let a = \"shannu\";;\n",
    "String.sub a 2 (4)"
   ]
  },
  {
   "cell_type": "code",
   "execution_count": 2,
   "metadata": {},
   "outputs": [
    {
     "data": {
      "text/plain": [
       "val f : int -> int = <fun>\n"
      ]
     },
     "execution_count": 2,
     "metadata": {},
     "output_type": "execute_result"
    },
    {
     "data": {
      "text/plain": [
       "- : int = 120\n"
      ]
     },
     "execution_count": 2,
     "metadata": {},
     "output_type": "execute_result"
    }
   ],
   "source": [
    "let rec f x = if x = 0 then 1 else x * f (x-1);;\n",
    "f 5"
   ]
  },
  {
   "cell_type": "code",
   "execution_count": 3,
   "metadata": {},
   "outputs": [
    {
     "data": {
      "text/plain": [
       "val f : int -> int = <fun>\n",
       "val g : int -> int = <fun>\n"
      ]
     },
     "execution_count": 3,
     "metadata": {},
     "output_type": "execute_result"
    },
    {
     "data": {
      "text/plain": [
       "- : int = 125\n"
      ]
     },
     "execution_count": 3,
     "metadata": {},
     "output_type": "execute_result"
    }
   ],
   "source": [
    "let rec f x = x + g (x) and\n",
    "g x = if x = 0 then 1 else x * g (x-1);;\n",
    "f 5"
   ]
  },
  {
   "cell_type": "code",
   "execution_count": 4,
   "metadata": {},
   "outputs": [
    {
     "data": {
      "text/plain": [
       "val inc : int -> int = <fun>\n"
      ]
     },
     "execution_count": 4,
     "metadata": {},
     "output_type": "execute_result"
    },
    {
     "data": {
      "text/plain": [
       "val square : int -> int = <fun>\n"
      ]
     },
     "execution_count": 4,
     "metadata": {},
     "output_type": "execute_result"
    },
    {
     "data": {
      "text/plain": [
       "- : int = 25\n"
      ]
     },
     "execution_count": 4,
     "metadata": {},
     "output_type": "execute_result"
    }
   ],
   "source": [
    "let inc x = x + 1;;\n",
    "let square x = x * x;;\n",
    "4 |> inc |> square  (*Pipelining Operator*)"
   ]
  },
  {
   "cell_type": "code",
   "execution_count": 5,
   "metadata": {},
   "outputs": [
    {
     "data": {
      "text/plain": [
       "val inc : int -> int = <fun>\n"
      ]
     },
     "execution_count": 5,
     "metadata": {},
     "output_type": "execute_result"
    },
    {
     "data": {
      "text/plain": [
       "val square : int -> int = <fun>\n"
      ]
     },
     "execution_count": 5,
     "metadata": {},
     "output_type": "execute_result"
    },
    {
     "data": {
      "text/plain": [
       "val a : int = 5\n"
      ]
     },
     "execution_count": 5,
     "metadata": {},
     "output_type": "execute_result"
    },
    {
     "data": {
      "text/plain": [
       "- : int = 36\n"
      ]
     },
     "execution_count": 5,
     "metadata": {},
     "output_type": "execute_result"
    }
   ],
   "source": [
    "let inc x = x + 1;;\n",
    "let square x = x * x;;\n",
    "let a = 5;;\n",
    "a |> inc |> square  (*Pipelining Operator*)"
   ]
  },
  {
   "cell_type": "code",
   "execution_count": 6,
   "metadata": {},
   "outputs": [
    {
     "data": {
      "text/plain": [
       "- : float = 10.\n"
      ]
     },
     "execution_count": 6,
     "metadata": {},
     "output_type": "execute_result"
    }
   ],
   "source": [
    "4.0 +. 6.0"
   ]
  },
  {
   "cell_type": "code",
   "execution_count": 7,
   "metadata": {},
   "outputs": [
    {
     "data": {
      "text/plain": [
       "- : int = 11\n"
      ]
     },
     "execution_count": 7,
     "metadata": {},
     "output_type": "execute_result"
    }
   ],
   "source": [
    "let y = 4 in\n",
    "let x = 7 in y + x"
   ]
  },
  {
   "cell_type": "code",
   "execution_count": 8,
   "metadata": {},
   "outputs": [
    {
     "data": {
      "text/plain": [
       "val y : int = 4\n"
      ]
     },
     "execution_count": 8,
     "metadata": {},
     "output_type": "execute_result"
    },
    {
     "data": {
      "text/plain": [
       "- : unit = ()\n"
      ]
     },
     "execution_count": 8,
     "metadata": {},
     "output_type": "execute_result"
    }
   ],
   "source": [
    "let y = 4;;\n",
    "print_int y"
   ]
  },
  {
   "cell_type": "code",
   "execution_count": 9,
   "metadata": {},
   "outputs": [
    {
     "data": {
      "text/plain": [
       "val y : int = 4\n"
      ]
     },
     "execution_count": 9,
     "metadata": {},
     "output_type": "execute_result"
    },
    {
     "data": {
      "text/plain": [
       "- : unit = ()\n"
      ]
     },
     "execution_count": 9,
     "metadata": {},
     "output_type": "execute_result"
    }
   ],
   "source": [
    "let y = 4;;\n",
    "Printf.printf \"%d\" y"
   ]
  },
  {
   "cell_type": "code",
   "execution_count": 10,
   "metadata": {},
   "outputs": [
    {
     "data": {
      "text/plain": [
       "val f : name1:int -> name2:int -> int = <fun>\n"
      ]
     },
     "execution_count": 10,
     "metadata": {},
     "output_type": "execute_result"
    },
    {
     "data": {
      "text/plain": [
       "- : int = 9\n"
      ]
     },
     "execution_count": 10,
     "metadata": {},
     "output_type": "execute_result"
    }
   ],
   "source": [
    "let f ~name1:x ~name2:y = x+y;;\n",
    "f 4 5"
   ]
  },
  {
   "cell_type": "code",
   "execution_count": 11,
   "metadata": {},
   "outputs": [
    {
     "data": {
      "text/plain": [
       "val f : name1:int -> name2:int -> int = <fun>\n"
      ]
     },
     "execution_count": 11,
     "metadata": {},
     "output_type": "execute_result"
    },
    {
     "data": {
      "text/plain": [
       "- : int = 9\n"
      ]
     },
     "execution_count": 11,
     "metadata": {},
     "output_type": "execute_result"
    }
   ],
   "source": [
    "let f ~name1:x ~name2:y = x+y;;\n",
    "f ~name1:4 ~name2:5"
   ]
  },
  {
   "cell_type": "code",
   "execution_count": 12,
   "metadata": {},
   "outputs": [
    {
     "data": {
      "text/plain": [
       "val f :\n",
       "  name1:int ->\n",
       "  name2:((name1:int -> name2:int -> int) -> name1:int -> name2:int -> int) ->\n",
       "  int = <fun>\n"
      ]
     },
     "execution_count": 12,
     "metadata": {},
     "output_type": "execute_result"
    }
   ],
   "source": [
    "let f ~name1 ~name2 = name1 + name2\n",
    "f ~name1:4 ~name2:5"
   ]
  },
  {
   "cell_type": "code",
   "execution_count": 13,
   "metadata": {},
   "outputs": [
    {
     "data": {
      "text/plain": [
       "val addx : int -> int -> int = <fun>\n"
      ]
     },
     "execution_count": 13,
     "metadata": {},
     "output_type": "execute_result"
    },
    {
     "data": {
      "text/plain": [
       "val add5 : int -> int = <fun>\n"
      ]
     },
     "execution_count": 13,
     "metadata": {},
     "output_type": "execute_result"
    },
    {
     "data": {
      "text/plain": [
       "- : int = 7\n"
      ]
     },
     "execution_count": 13,
     "metadata": {},
     "output_type": "execute_result"
    }
   ],
   "source": [
    "let addx x =  fun y -> x + y;;\n",
    "let add5 = addx 5;;\n",
    "add5 2"
   ]
  },
  {
   "cell_type": "code",
   "execution_count": 14,
   "metadata": {},
   "outputs": [
    {
     "data": {
      "text/plain": [
       "val add : int -> int -> int = <fun>\n"
      ]
     },
     "execution_count": 14,
     "metadata": {},
     "output_type": "execute_result"
    },
    {
     "data": {
      "text/plain": [
       "val addi : int -> int = <fun>\n"
      ]
     },
     "execution_count": 14,
     "metadata": {},
     "output_type": "execute_result"
    },
    {
     "data": {
      "text/plain": [
       "- : int = 7\n"
      ]
     },
     "execution_count": 14,
     "metadata": {},
     "output_type": "execute_result"
    }
   ],
   "source": [
    "let add x = fun y -> x + y;;\n",
    "let addi = add 4;;\n",
    "addi 3"
   ]
  },
  {
   "cell_type": "code",
   "execution_count": 15,
   "metadata": {},
   "outputs": [
    {
     "data": {
      "text/plain": [
       "val add : int -> int -> int = <fun>\n"
      ]
     },
     "execution_count": 15,
     "metadata": {},
     "output_type": "execute_result"
    },
    {
     "data": {
      "text/plain": [
       "- : int = 7\n"
      ]
     },
     "execution_count": 15,
     "metadata": {},
     "output_type": "execute_result"
    }
   ],
   "source": [
    "let add x = fun y -> x + y;;\n",
    "add 3 4"
   ]
  },
  {
   "cell_type": "code",
   "execution_count": 16,
   "metadata": {},
   "outputs": [
    {
     "data": {
      "text/plain": [
       "val add : int -> int -> int = <fun>\n"
      ]
     },
     "execution_count": 16,
     "metadata": {},
     "output_type": "execute_result"
    },
    {
     "data": {
      "text/plain": [
       "- : int = 7\n"
      ]
     },
     "execution_count": 16,
     "metadata": {},
     "output_type": "execute_result"
    }
   ],
   "source": [
    "let add = fun x -> (fun y -> x + y);;\n",
    "add 4 3"
   ]
  },
  {
   "cell_type": "code",
   "execution_count": 17,
   "metadata": {},
   "outputs": [
    {
     "data": {
      "text/plain": [
       "val add3 : int -> int = <fun>\n"
      ]
     },
     "execution_count": 17,
     "metadata": {},
     "output_type": "execute_result"
    },
    {
     "data": {
      "text/plain": [
       "- : int = 10\n"
      ]
     },
     "execution_count": 17,
     "metadata": {},
     "output_type": "execute_result"
    }
   ],
   "source": [
    "let add3 = (+) 3 ;;\n",
    "add3 7"
   ]
  },
  {
   "cell_type": "code",
   "execution_count": 18,
   "metadata": {},
   "outputs": [
    {
     "data": {
      "text/plain": [
       "val ( ^^ ) : 'a -> 'a -> 'a = <fun>\n"
      ]
     },
     "execution_count": 18,
     "metadata": {},
     "output_type": "execute_result"
    },
    {
     "data": {
      "text/plain": [
       "- : int = 10\n"
      ]
     },
     "execution_count": 18,
     "metadata": {},
     "output_type": "execute_result"
    }
   ],
   "source": [
    "let (^^) x y = max x y;;\n",
    "4 ^^ 10"
   ]
  },
  {
   "cell_type": "code",
   "execution_count": 19,
   "metadata": {},
   "outputs": [
    {
     "data": {
      "text/plain": [
       "val ( * ) : int -> int -> int = <fun>\n"
      ]
     },
     "execution_count": 19,
     "metadata": {},
     "output_type": "execute_result"
    },
    {
     "data": {
      "text/plain": [
       "- : int = 24\n"
      ]
     },
     "execution_count": 19,
     "metadata": {},
     "output_type": "execute_result"
    }
   ],
   "source": [
    "let ( * ) x y = x * y;;\n",
    "4 * 6"
   ]
  },
  {
   "cell_type": "code",
   "execution_count": 20,
   "metadata": {},
   "outputs": [
    {
     "data": {
      "text/plain": [
       "- : int = 10\n"
      ]
     },
     "execution_count": 20,
     "metadata": {},
     "output_type": "execute_result"
    }
   ],
   "source": [
    "4 + 6"
   ]
  },
  {
   "cell_type": "code",
   "execution_count": 21,
   "metadata": {},
   "outputs": [
    {
     "data": {
      "text/plain": [
       "- : int = 24\n"
      ]
     },
     "execution_count": 21,
     "metadata": {},
     "output_type": "execute_result"
    }
   ],
   "source": [
    "4 * 6"
   ]
  },
  {
   "cell_type": "code",
   "execution_count": 22,
   "metadata": {},
   "outputs": [
    {
     "data": {
      "text/plain": [
       "val count : int -> int = <fun>\n"
      ]
     },
     "execution_count": 22,
     "metadata": {},
     "output_type": "execute_result"
    },
    {
     "data": {
      "text/plain": [
       "- : int = 100000\n"
      ]
     },
     "execution_count": 22,
     "metadata": {},
     "output_type": "execute_result"
    }
   ],
   "source": [
    "let rec count n = if n=0 then 0 else 1 + count (n - 1);;\n",
    "count 100000"
   ]
  },
  {
   "cell_type": "code",
   "execution_count": 23,
   "metadata": {},
   "outputs": [
    {
     "data": {
      "text/plain": [
       "val count : int -> int = <fun>\n"
      ]
     },
     "execution_count": 23,
     "metadata": {},
     "output_type": "execute_result"
    },
    {
     "ename": "error",
     "evalue": "runtime_error",
     "output_type": "error",
     "traceback": [
      "\u001b[31mStack overflow during evaluation (looping recursion?).\nRaised by primitive operation at file \"[23]\", line 1, characters 41-54\nCalled from file \"[23]\", line 1, characters 41-54\nCalled from file \"[23]\", line 1, characters 41-54\nCalled from file \"[23]\", line 1, characters 41-54\nCalled from file \"[23]\", line 1, characters 41-54\nCalled from file \"[23]\", line 1, characters 41-54\nCalled from file \"[23]\", line 1, characters 41-54\nCalled from file \"[23]\", line 1, characters 41-54\nCalled from file \"[23]\", line 1, characters 41-54\nCalled from file \"[23]\", line 1, characters 41-54\nCalled from file \"[23]\", line 1, characters 41-54\nCalled from file \"[23]\", line 1, characters 41-54\nCalled from file \"[23]\", line 1, characters 41-54\nCalled from file \"[23]\", line 1, characters 41-54\nCalled from file \"[23]\", line 1, characters 41-54\nCalled from file \"[23]\", line 1, characters 41-54\nCalled from file \"[23]\", line 1, characters 41-54\nCalled from file \"[23]\", line 1, characters 41-54\nCalled from file \"[23]\", line 1, characters 41-54\nCalled from file \"[23]\", line 1, characters 41-54\nCalled from file \"[23]\", line 1, characters 41-54\nCalled from file \"[23]\", line 1, characters 41-54\nCalled from file \"[23]\", line 1, characters 41-54\nCalled from file \"[23]\", line 1, characters 41-54\nCalled from file \"[23]\", line 1, characters 41-54\nCalled from file \"[23]\", line 1, characters 41-54\nCalled from file \"[23]\", line 1, characters 41-54\nCalled from file \"[23]\", line 1, characters 41-54\nCalled from file \"[23]\", line 1, characters 41-54\nCalled from file \"[23]\", line 1, characters 41-54\nCalled from file \"[23]\", line 1, characters 41-54\nCalled from file \"[23]\", line 1, characters 41-54\nCalled from file \"[23]\", line 1, characters 41-54\nCalled from file \"[23]\", line 1, characters 41-54\nCalled from file \"[23]\", line 1, characters 41-54\nCalled from file \"[23]\", line 1, characters 41-54\nCalled from file \"[23]\", line 1, characters 41-54\nCalled from file \"[23]\", line 1, characters 41-54\nCalled from file \"[23]\", line 1, characters 41-54\nCalled from file \"[23]\", line 1, characters 41-54\nCalled from file \"[23]\", line 1, characters 41-54\nCalled from file \"[23]\", line 1, characters 41-54\nCalled from file \"[23]\", line 1, characters 41-54\nCalled from file \"[23]\", line 1, characters 41-54\nCalled from file \"[23]\", line 1, characters 41-54\nCalled from file \"[23]\", line 1, characters 41-54\nCalled from file \"[23]\", line 1, characters 41-54\nCalled from file \"[23]\", line 1, characters 41-54\nCalled from file \"[23]\", line 1, characters 41-54\nCalled from file \"[23]\", line 1, characters 41-54\nCalled from file \"[23]\", line 1, characters 41-54\nCalled from file \"[23]\", line 1, characters 41-54\nCalled from file \"[23]\", line 1, characters 41-54\nCalled from file \"[23]\", line 1, characters 41-54\nCalled from file \"[23]\", line 1, characters 41-54\nCalled from file \"[23]\", line 1, characters 41-54\nCalled from file \"[23]\", line 1, characters 41-54\nCalled from file \"[23]\", line 1, characters 41-54\nCalled from file \"[23]\", line 1, characters 41-54\nCalled from file \"[23]\", line 1, characters 41-54\nCalled from file \"[23]\", line 1, characters 41-54\nCalled from file \"[23]\", line 1, characters 41-54\nCalled from file \"[23]\", line 1, characters 41-54\nCalled from file \"[23]\", line 1, characters 41-54\nCalled from file \"[23]\", line 1, characters 41-54\nCalled from file \"[23]\", line 1, characters 41-54\nCalled from file \"[23]\", line 1, characters 41-54\nCalled from file \"[23]\", line 1, characters 41-54\nCalled from file \"[23]\", line 1, characters 41-54\nCalled from file \"[23]\", line 1, characters 41-54\nCalled from file \"[23]\", line 1, characters 41-54\nCalled from file \"[23]\", line 1, characters 41-54\nCalled from file \"[23]\", line 1, characters 41-54\nCalled from file \"[23]\", line 1, characters 41-54\nCalled from file \"[23]\", line 1, characters 41-54\nCalled from file \"[23]\", line 1, characters 41-54\nCalled from file \"[23]\", line 1, characters 41-54\nCalled from file \"[23]\", line 1, characters 41-54\nCalled from file \"[23]\", line 1, characters 41-54\nCalled from file \"[23]\", line 1, characters 41-54\nCalled from file \"[23]\", line 1, characters 41-54\nCalled from file \"[23]\", line 1, characters 41-54\nCalled from file \"[23]\", line 1, characters 41-54\nCalled from file \"[23]\", line 1, characters 41-54\nCalled from file \"[23]\", line 1, characters 41-54\nCalled from file \"[23]\", line 1, characters 41-54\nCalled from file \"[23]\", line 1, characters 41-54\nCalled from file \"[23]\", line 1, characters 41-54\nCalled from file \"[23]\", line 1, characters 41-54\nCalled from file \"[23]\", line 1, characters 41-54\nCalled from file \"[23]\", line 1, characters 41-54\nCalled from file \"[23]\", line 1, characters 41-54\nCalled from file \"[23]\", line 1, characters 41-54\nCalled from file \"[23]\", line 1, characters 41-54\nCalled from file \"[23]\", line 1, characters 41-54\nCalled from file \"[23]\", line 1, characters 41-54\nCalled from file \"[23]\", line 1, characters 41-54\nCalled from file \"[23]\", line 1, characters 41-54\nCalled from file \"[23]\", line 1, characters 41-54\nCalled from file \"[23]\", line 1, characters 41-54\nCalled from file \"[23]\", line 1, characters 41-54\nCalled from file \"[23]\", line 1, characters 41-54\nCalled from file \"[23]\", line 1, characters 41-54\nCalled from file \"[23]\", line 1, characters 41-54\nCalled from file \"[23]\", line 1, characters 41-54\nCalled from file \"[23]\", line 1, characters 41-54\nCalled from file \"[23]\", line 1, characters 41-54\nCalled from file \"[23]\", line 1, characters 41-54\nCalled from file \"[23]\", line 1, characters 41-54\nCalled from file \"[23]\", line 1, characters 41-54\nCalled from file \"[23]\", line 1, characters 41-54\nCalled from file \"[23]\", line 1, characters 41-54\nCalled from file \"[23]\", line 1, characters 41-54\nCalled from file \"[23]\", line 1, characters 41-54\nCalled from file \"[23]\", line 1, characters 41-54\nCalled from file \"[23]\", line 1, characters 41-54\nCalled from file \"[23]\", line 1, characters 41-54\nCalled from file \"[23]\", line 1, characters 41-54\nCalled from file \"[23]\", line 1, characters 41-54\nCalled from file \"[23]\", line 1, characters 41-54\nCalled from file \"[23]\", line 1, characters 41-54\nCalled from file \"[23]\", line 1, characters 41-54\nCalled from file \"[23]\", line 1, characters 41-54\nCalled from file \"[23]\", line 1, characters 41-54\nCalled from file \"[23]\", line 1, characters 41-54\nCalled from file \"[23]\", line 1, characters 41-54\nCalled from file \"[23]\", line 1, characters 41-54\nCalled from file \"[23]\", line 1, characters 41-54\nCalled from file \"[23]\", line 1, characters 41-54\nCalled from file \"[23]\", line 1, characters 41-54\nCalled from file \"[23]\", line 1, characters 41-54\nCalled from file \"[23]\", line 1, characters 41-54\nCalled from file \"[23]\", line 1, characters 41-54\nCalled from file \"[23]\", line 1, characters 41-54\nCalled from file \"[23]\", line 1, characters 41-54\nCalled from file \"[23]\", line 1, characters 41-54\nCalled from file \"[23]\", line 1, characters 41-54\nCalled from file \"[23]\", line 1, characters 41-54\nCalled from file \"[23]\", line 1, characters 41-54\nCalled from file \"[23]\", line 1, characters 41-54\nCalled from file \"[23]\", line 1, characters 41-54\nCalled from file \"[23]\", line 1, characters 41-54\nCalled from file \"[23]\", line 1, characters 41-54\nCalled from file \"[23]\", line 1, characters 41-54\nCalled from file \"[23]\", line 1, characters 41-54\nCalled from file \"[23]\", line 1, characters 41-54\nCalled from file \"[23]\", line 1, characters 41-54\nCalled from file \"[23]\", line 1, characters 41-54\nCalled from file \"[23]\", line 1, characters 41-54\nCalled from file \"[23]\", line 1, characters 41-54\nCalled from file \"[23]\", line 1, characters 41-54\nCalled from file \"[23]\", line 1, characters 41-54\nCalled from file \"[23]\", line 1, characters 41-54\nCalled from file \"[23]\", line 1, characters 41-54\nCalled from file \"[23]\", line 1, characters 41-54\nCalled from file \"[23]\", line 1, characters 41-54\nCalled from file \"[23]\", line 1, characters 41-54\nCalled from file \"[23]\", line 1, characters 41-54\nCalled from file \"[23]\", line 1, characters 41-54\nCalled from file \"[23]\", line 1, characters 41-54\nCalled from file \"[23]\", line 1, characters 41-54\nCalled from file \"[23]\", line 1, characters 41-54\nCalled from file \"[23]\", line 1, characters 41-54\nCalled from file \"[23]\", line 1, characters 41-54\nCalled from file \"[23]\", line 1, characters 41-54\nCalled from file \"[23]\", line 1, characters 41-54\nCalled from file \"[23]\", line 1, characters 41-54\nCalled from file \"[23]\", line 1, characters 41-54\nCalled from file \"[23]\", line 1, characters 41-54\nCalled from file \"[23]\", line 1, characters 41-54\nCalled from file \"[23]\", line 1, characters 41-54\nCalled from file \"[23]\", line 1, characters 41-54\nCalled from file \"[23]\", line 1, characters 41-54\nCalled from file \"[23]\", line 1, characters 41-54\nCalled from file \"[23]\", line 1, characters 41-54\nCalled from file \"[23]\", line 1, characters 41-54\nCalled from file \"[23]\", line 1, characters 41-54\nCalled from file \"[23]\", line 1, characters 41-54\nCalled from file \"[23]\", line 1, characters 41-54\nCalled from file \"[23]\", line 1, characters 41-54\nCalled from file \"[23]\", line 1, characters 41-54\nCalled from file \"[23]\", line 1, characters 41-54\nCalled from file \"[23]\", line 1, characters 41-54\nCalled from file \"[23]\", line 1, characters 41-54\nCalled from file \"[23]\", line 1, characters 41-54\nCalled from file \"[23]\", line 1, characters 41-54\nCalled from file \"[23]\", line 1, characters 41-54\nCalled from file \"[23]\", line 1, characters 41-54\nCalled from file \"[23]\", line 1, characters 41-54\nCalled from file \"[23]\", line 1, characters 41-54\nCalled from file \"[23]\", line 1, characters 41-54\nCalled from file \"[23]\", line 1, characters 41-54\nCalled from file \"[23]\", line 1, characters 41-54\nCalled from file \"[23]\", line 1, characters 41-54\nCalled from file \"[23]\", line 1, characters 41-54\nCalled from file \"[23]\", line 1, characters 41-54\nCalled from file \"[23]\", line 1, characters 41-54\nCalled from file \"[23]\", line 1, characters 41-54\nCalled from file \"[23]\", line 1, characters 41-54\nCalled from file \"[23]\", line 1, characters 41-54\nCalled from file \"[23]\", line 1, characters 41-54\nCalled from file \"[23]\", line 1, characters 41-54\nCalled from file \"[23]\", line 1, characters 41-54\nCalled from file \"[23]\", line 1, characters 41-54\nCalled from file \"[23]\", line 1, characters 41-54\nCalled from file \"[23]\", line 1, characters 41-54\nCalled from file \"[23]\", line 1, characters 41-54\nCalled from file \"[23]\", line 1, characters 41-54\nCalled from file \"[23]\", line 1, characters 41-54\nCalled from file \"[23]\", line 1, characters 41-54\nCalled from file \"[23]\", line 1, characters 41-54\nCalled from file \"[23]\", line 1, characters 41-54\nCalled from file \"[23]\", line 1, characters 41-54\nCalled from file \"[23]\", line 1, characters 41-54\nCalled from file \"[23]\", line 1, characters 41-54\nCalled from file \"[23]\", line 1, characters 41-54\nCalled from file \"[23]\", line 1, characters 41-54\nCalled from file \"[23]\", line 1, characters 41-54\nCalled from file \"[23]\", line 1, characters 41-54\nCalled from file \"[23]\", line 1, characters 41-54\nCalled from file \"[23]\", line 1, characters 41-54\nCalled from file \"[23]\", line 1, characters 41-54\nCalled from file \"[23]\", line 1, characters 41-54\nCalled from file \"[23]\", line 1, characters 41-54\nCalled from file \"[23]\", line 1, characters 41-54\nCalled from file \"[23]\", line 1, characters 41-54\nCalled from file \"[23]\", line 1, characters 41-54\nCalled from file \"[23]\", line 1, characters 41-54\nCalled from file \"[23]\", line 1, characters 41-54\nCalled from file \"[23]\", line 1, characters 41-54\nCalled from file \"[23]\", line 1, characters 41-54\nCalled from file \"[23]\", line 1, characters 41-54\nCalled from file \"[23]\", line 1, characters 41-54\nCalled from file \"[23]\", line 1, characters 41-54\nCalled from file \"[23]\", line 1, characters 41-54\nCalled from file \"[23]\", line 1, characters 41-54\nCalled from file \"[23]\", line 1, characters 41-54\nCalled from file \"[23]\", line 1, characters 41-54\nCalled from file \"[23]\", line 1, characters 41-54\nCalled from file \"[23]\", line 1, characters 41-54\nCalled from file \"[23]\", line 1, characters 41-54\nCalled from file \"[23]\", line 1, characters 41-54\nCalled from file \"[23]\", line 1, characters 41-54\nCalled from file \"[23]\", line 1, characters 41-54\nCalled from file \"[23]\", line 1, characters 41-54\nCalled from file \"[23]\", line 1, characters 41-54\nCalled from file \"[23]\", line 1, characters 41-54\nCalled from file \"[23]\", line 1, characters 41-54\nCalled from file \"[23]\", line 1, characters 41-54\nCalled from file \"[23]\", line 1, characters 41-54\nCalled from file \"[23]\", line 1, characters 41-54\nCalled from file \"[23]\", line 1, characters 41-54\nCalled from file \"[23]\", line 1, characters 41-54\nCalled from file \"[23]\", line 1, characters 41-54\nCalled from file \"[23]\", line 1, characters 41-54\nCalled from file \"[23]\", line 1, characters 41-54\nCalled from file \"[23]\", line 1, characters 41-54\nCalled from file \"[23]\", line 1, characters 41-54\nCalled from file \"[23]\", line 1, characters 41-54\nCalled from file \"[23]\", line 1, characters 41-54\nCalled from file \"[23]\", line 1, characters 41-54\nCalled from file \"[23]\", line 1, characters 41-54\nCalled from file \"[23]\", line 1, characters 41-54\nCalled from file \"[23]\", line 1, characters 41-54\nCalled from file \"[23]\", line 1, characters 41-54\nCalled from file \"[23]\", line 1, characters 41-54\nCalled from file \"[23]\", line 1, characters 41-54\nCalled from file \"[23]\", line 1, characters 41-54\nCalled from file \"[23]\", line 1, characters 41-54\nCalled from file \"[23]\", line 1, characters 41-54\nCalled from file \"[23]\", line 1, characters 41-54\nCalled from file \"[23]\", line 1, characters 41-54\nCalled from file \"[23]\", line 1, characters 41-54\nCalled from file \"[23]\", line 1, characters 41-54\nCalled from file \"[23]\", line 1, characters 41-54\nCalled from file \"[23]\", line 1, characters 41-54\nCalled from file \"[23]\", line 1, characters 41-54\nCalled from file \"[23]\", line 1, characters 41-54\nCalled from file \"[23]\", line 1, characters 41-54\nCalled from file \"[23]\", line 1, characters 41-54\nCalled from file \"[23]\", line 1, characters 41-54\nCalled from file \"[23]\", line 1, characters 41-54\nCalled from file \"[23]\", line 1, characters 41-54\nCalled from file \"[23]\", line 1, characters 41-54\nCalled from file \"[23]\", line 1, characters 41-54\nCalled from file \"[23]\", line 1, characters 41-54\nCalled from file \"[23]\", line 1, characters 41-54\nCalled from file \"[23]\", line 1, characters 41-54\nCalled from file \"[23]\", line 1, characters 41-54\nCalled from file \"[23]\", line 1, characters 41-54\nCalled from file \"[23]\", line 1, characters 41-54\nCalled from file \"[23]\", line 1, characters 41-54\nCalled from file \"[23]\", line 1, characters 41-54\nCalled from file \"[23]\", line 1, characters 41-54\nCalled from file \"[23]\", line 1, characters 41-54\nCalled from file \"[23]\", line 1, characters 41-54\nCalled from file \"[23]\", line 1, characters 41-54\nCalled from file \"[23]\", line 1, characters 41-54\nCalled from file \"[23]\", line 1, characters 41-54\nCalled from file \"[23]\", line 1, characters 41-54\nCalled from file \"[23]\", line 1, characters 41-54\nCalled from file \"[23]\", line 1, characters 41-54\nCalled from file \"[23]\", line 1, characters 41-54\nCalled from file \"[23]\", line 1, characters 41-54\nCalled from file \"[23]\", line 1, characters 41-54\nCalled from file \"[23]\", line 1, characters 41-54\nCalled from file \"[23]\", line 1, characters 41-54\nCalled from file \"[23]\", line 1, characters 41-54\nCalled from file \"[23]\", line 1, characters 41-54\nCalled from file \"[23]\", line 1, characters 41-54\nCalled from file \"[23]\", line 1, characters 41-54\nCalled from file \"[23]\", line 1, characters 41-54\nCalled from file \"[23]\", line 1, characters 41-54\nCalled from file \"[23]\", line 1, characters 41-54\nCalled from file \"[23]\", line 1, characters 41-54\nCalled from file \"[23]\", line 1, characters 41-54\nCalled from file \"[23]\", line 1, characters 41-54\nCalled from file \"[23]\", line 1, characters 41-54\nCalled from file \"[23]\", line 1, characters 41-54\nCalled from file \"[23]\", line 1, characters 41-54\nCalled from file \"[23]\", line 1, characters 41-54\nCalled from file \"[23]\", line 1, characters 41-54\nCalled from file \"[23]\", line 1, characters 41-54\nCalled from file \"[23]\", line 1, characters 41-54\nCalled from file \"[23]\", line 1, characters 41-54\nCalled from file \"[23]\", line 1, characters 41-54\nCalled from file \"[23]\", line 1, characters 41-54\nCalled from file \"[23]\", line 1, characters 41-54\nCalled from file \"[23]\", line 1, characters 41-54\nCalled from file \"[23]\", line 1, characters 41-54\nCalled from file \"[23]\", line 1, characters 41-54\nCalled from file \"[23]\", line 1, characters 41-54\nCalled from file \"[23]\", line 1, characters 41-54\nCalled from file \"[23]\", line 1, characters 41-54\nCalled from file \"[23]\", line 1, characters 41-54\nCalled from file \"[23]\", line 1, characters 41-54\nCalled from file \"[23]\", line 1, characters 41-54\nCalled from file \"[23]\", line 1, characters 41-54\nCalled from file \"[23]\", line 1, characters 41-54\nCalled from file \"[23]\", line 1, characters 41-54\nCalled from file \"[23]\", line 1, characters 41-54\nCalled from file \"[23]\", line 1, characters 41-54\nCalled from file \"[23]\", line 1, characters 41-54\nCalled from file \"[23]\", line 1, characters 41-54\nCalled from file \"[23]\", line 1, characters 41-54\nCalled from file \"[23]\", line 1, characters 41-54\nCalled from file \"[23]\", line 1, characters 41-54\nCalled from file \"[23]\", line 1, characters 41-54\nCalled from file \"[23]\", line 1, characters 41-54\nCalled from file \"[23]\", line 1, characters 41-54\nCalled from file \"[23]\", line 1, characters 41-54\nCalled from file \"[23]\", line 1, characters 41-54\nCalled from file \"[23]\", line 1, characters 41-54\nCalled from file \"[23]\", line 1, characters 41-54\nCalled from file \"[23]\", line 1, characters 41-54\nCalled from file \"[23]\", line 1, characters 41-54\nCalled from file \"[23]\", line 1, characters 41-54\nCalled from file \"[23]\", line 1, characters 41-54\nCalled from file \"[23]\", line 1, characters 41-54\nCalled from file \"[23]\", line 1, characters 41-54\nCalled from file \"[23]\", line 1, characters 41-54\nCalled from file \"[23]\", line 1, characters 41-54\nCalled from file \"[23]\", line 1, characters 41-54\nCalled from file \"[23]\", line 1, characters 41-54\nCalled from file \"[23]\", line 1, characters 41-54\nCalled from file \"[23]\", line 1, characters 41-54\nCalled from file \"[23]\", line 1, characters 41-54\nCalled from file \"[23]\", line 1, characters 41-54\nCalled from file \"[23]\", line 1, characters 41-54\nCalled from file \"[23]\", line 1, characters 41-54\nCalled from file \"[23]\", line 1, characters 41-54\nCalled from file \"[23]\", line 1, characters 41-54\nCalled from file \"[23]\", line 1, characters 41-54\nCalled from file \"[23]\", line 1, characters 41-54\nCalled from file \"[23]\", line 1, characters 41-54\nCalled from file \"[23]\", line 1, characters 41-54\nCalled from file \"[23]\", line 1, characters 41-54\nCalled from file \"[23]\", line 1, characters 41-54\nCalled from file \"[23]\", line 1, characters 41-54\nCalled from file \"[23]\", line 1, characters 41-54\nCalled from file \"[23]\", line 1, characters 41-54\nCalled from file \"[23]\", line 1, characters 41-54\nCalled from file \"[23]\", line 1, characters 41-54\nCalled from file \"[23]\", line 1, characters 41-54\nCalled from file \"[23]\", line 1, characters 41-54\nCalled from file \"[23]\", line 1, characters 41-54\nCalled from file \"[23]\", line 1, characters 41-54\nCalled from file \"[23]\", line 1, characters 41-54\nCalled from file \"[23]\", line 1, characters 41-54\nCalled from file \"[23]\", line 1, characters 41-54\nCalled from file \"[23]\", line 1, characters 41-54\nCalled from file \"[23]\", line 1, characters 41-54\nCalled from file \"[23]\", line 1, characters 41-54\nCalled from file \"[23]\", line 1, characters 41-54\nCalled from file \"[23]\", line 1, characters 41-54\nCalled from file \"[23]\", line 1, characters 41-54\nCalled from file \"[23]\", line 1, characters 41-54\nCalled from file \"[23]\", line 1, characters 41-54\nCalled from file \"[23]\", line 1, characters 41-54\nCalled from file \"[23]\", line 1, characters 41-54\nCalled from file \"[23]\", line 1, characters 41-54\nCalled from file \"[23]\", line 1, characters 41-54\nCalled from file \"[23]\", line 1, characters 41-54\nCalled from file \"[23]\", line 1, characters 41-54\nCalled from file \"[23]\", line 1, characters 41-54\nCalled from file \"[23]\", line 1, characters 41-54\nCalled from file \"[23]\", line 1, characters 41-54\nCalled from file \"[23]\", line 1, characters 41-54\nCalled from file \"[23]\", line 1, characters 41-54\nCalled from file \"[23]\", line 1, characters 41-54\nCalled from file \"[23]\", line 1, characters 41-54\nCalled from file \"[23]\", line 1, characters 41-54\nCalled from file \"[23]\", line 1, characters 41-54\nCalled from file \"[23]\", line 1, characters 41-54\nCalled from file \"[23]\", line 1, characters 41-54\nCalled from file \"[23]\", line 1, characters 41-54\nCalled from file \"[23]\", line 1, characters 41-54\nCalled from file \"[23]\", line 1, characters 41-54\nCalled from file \"[23]\", line 1, characters 41-54\nCalled from file \"[23]\", line 1, characters 41-54\nCalled from file \"[23]\", line 1, characters 41-54\nCalled from file \"[23]\", line 1, characters 41-54\nCalled from file \"[23]\", line 1, characters 41-54\nCalled from file \"[23]\", line 1, characters 41-54\nCalled from file \"[23]\", line 1, characters 41-54\nCalled from file \"[23]\", line 1, characters 41-54\nCalled from file \"[23]\", line 1, characters 41-54\nCalled from file \"[23]\", line 1, characters 41-54\nCalled from file \"[23]\", line 1, characters 41-54\nCalled from file \"[23]\", line 1, characters 41-54\nCalled from file \"[23]\", line 1, characters 41-54\nCalled from file \"[23]\", line 1, characters 41-54\nCalled from file \"[23]\", line 1, characters 41-54\nCalled from file \"[23]\", line 1, characters 41-54\nCalled from file \"[23]\", line 1, characters 41-54\nCalled from file \"[23]\", line 1, characters 41-54\nCalled from file \"[23]\", line 1, characters 41-54\nCalled from file \"[23]\", line 1, characters 41-54\nCalled from file \"[23]\", line 1, characters 41-54\nCalled from file \"[23]\", line 1, characters 41-54\nCalled from file \"[23]\", line 1, characters 41-54\nCalled from file \"[23]\", line 1, characters 41-54\nCalled from file \"[23]\", line 1, characters 41-54\nCalled from file \"[23]\", line 1, characters 41-54\nCalled from file \"[23]\", line 1, characters 41-54\nCalled from file \"[23]\", line 1, characters 41-54\nCalled from file \"[23]\", line 1, characters 41-54\nCalled from file \"[23]\", line 1, characters 41-54\nCalled from file \"[23]\", line 1, characters 41-54\nCalled from file \"[23]\", line 1, characters 41-54\nCalled from file \"[23]\", line 1, characters 41-54\nCalled from file \"[23]\", line 1, characters 41-54\nCalled from file \"[23]\", line 1, characters 41-54\nCalled from file \"[23]\", line 1, characters 41-54\nCalled from file \"[23]\", line 1, characters 41-54\nCalled from file \"[23]\", line 1, characters 41-54\nCalled from file \"[23]\", line 1, characters 41-54\nCalled from file \"[23]\", line 1, characters 41-54\nCalled from file \"[23]\", line 1, characters 41-54\nCalled from file \"[23]\", line 1, characters 41-54\nCalled from file \"[23]\", line 1, characters 41-54\nCalled from file \"[23]\", line 1, characters 41-54\nCalled from file \"[23]\", line 1, characters 41-54\nCalled from file \"[23]\", line 1, characters 41-54\nCalled from file \"[23]\", line 1, characters 41-54\nCalled from file \"[23]\", line 1, characters 41-54\nCalled from file \"[23]\", line 1, characters 41-54\nCalled from file \"[23]\", line 1, characters 41-54\nCalled from file \"[23]\", line 1, characters 41-54\nCalled from file \"[23]\", line 1, characters 41-54\nCalled from file \"[23]\", line 1, characters 41-54\nCalled from file \"[23]\", line 1, characters 41-54\nCalled from file \"[23]\", line 1, characters 41-54\nCalled from file \"[23]\", line 1, characters 41-54\nCalled from file \"[23]\", line 1, characters 41-54\nCalled from file \"[23]\", line 1, characters 41-54\nCalled from file \"[23]\", line 1, characters 41-54\nCalled from file \"[23]\", line 1, characters 41-54\nCalled from file \"[23]\", line 1, characters 41-54\nCalled from file \"[23]\", line 1, characters 41-54\nCalled from file \"[23]\", line 1, characters 41-54\nCalled from file \"[23]\", line 1, characters 41-54\nCalled from file \"[23]\", line 1, characters 41-54\nCalled from file \"[23]\", line 1, characters 41-54\nCalled from file \"[23]\", line 1, characters 41-54\nCalled from file \"[23]\", line 1, characters 41-54\nCalled from file \"[23]\", line 1, characters 41-54\nCalled from file \"[23]\", line 1, characters 41-54\nCalled from file \"[23]\", line 1, characters 41-54\nCalled from file \"[23]\", line 1, characters 41-54\nCalled from file \"[23]\", line 1, characters 41-54\nCalled from file \"[23]\", line 1, characters 41-54\nCalled from file \"[23]\", line 1, characters 41-54\nCalled from file \"[23]\", line 1, characters 41-54\nCalled from file \"[23]\", line 1, characters 41-54\nCalled from file \"[23]\", line 1, characters 41-54\nCalled from file \"[23]\", line 1, characters 41-54\nCalled from file \"[23]\", line 1, characters 41-54\nCalled from file \"[23]\", line 1, characters 41-54\nCalled from file \"[23]\", line 1, characters 41-54\nCalled from file \"[23]\", line 1, characters 41-54\nCalled from file \"[23]\", line 1, characters 41-54\nCalled from file \"[23]\", line 1, characters 41-54\nCalled from file \"[23]\", line 1, characters 41-54\nCalled from file \"[23]\", line 1, characters 41-54\nCalled from file \"[23]\", line 1, characters 41-54\nCalled from file \"[23]\", line 1, characters 41-54\nCalled from file \"[23]\", line 1, characters 41-54\nCalled from file \"[23]\", line 1, characters 41-54\nCalled from file \"[23]\", line 1, characters 41-54\nCalled from file \"[23]\", line 1, characters 41-54\nCalled from file \"[23]\", line 1, characters 41-54\nCalled from file \"[23]\", line 1, characters 41-54\nCalled from file \"[23]\", line 1, characters 41-54\nCalled from file \"[23]\", line 1, characters 41-54\nCalled from file \"[23]\", line 1, characters 41-54\nCalled from file \"[23]\", line 1, characters 41-54\nCalled from file \"[23]\", line 1, characters 41-54\nCalled from file \"[23]\", line 1, characters 41-54\nCalled from file \"[23]\", line 1, characters 41-54\nCalled from file \"[23]\", line 1, characters 41-54\nCalled from file \"[23]\", line 1, characters 41-54\nCalled from file \"[23]\", line 1, characters 41-54\nCalled from file \"[23]\", line 1, characters 41-54\nCalled from file \"[23]\", line 1, characters 41-54\nCalled from file \"[23]\", line 1, characters 41-54\nCalled from file \"[23]\", line 1, characters 41-54\nCalled from file \"[23]\", line 1, characters 41-54\nCalled from file \"[23]\", line 1, characters 41-54\nCalled from file \"[23]\", line 1, characters 41-54\nCalled from file \"[23]\", line 1, characters 41-54\nCalled from file \"[23]\", line 1, characters 41-54\nCalled from file \"[23]\", line 1, characters 41-54\nCalled from file \"[23]\", line 1, characters 41-54\nCalled from file \"[23]\", line 1, characters 41-54\nCalled from file \"[23]\", line 1, characters 41-54\nCalled from file \"[23]\", line 1, characters 41-54\nCalled from file \"[23]\", line 1, characters 41-54\nCalled from file \"[23]\", line 1, characters 41-54\nCalled from file \"[23]\", line 1, characters 41-54\nCalled from file \"[23]\", line 1, characters 41-54\nCalled from file \"[23]\", line 1, characters 41-54\nCalled from file \"[23]\", line 1, characters 41-54\nCalled from file \"[23]\", line 1, characters 41-54\nCalled from file \"[23]\", line 1, characters 41-54\nCalled from file \"[23]\", line 1, characters 41-54\nCalled from file \"[23]\", line 1, characters 41-54\nCalled from file \"[23]\", line 1, characters 41-54\nCalled from file \"[23]\", line 1, characters 41-54\nCalled from file \"[23]\", line 1, characters 41-54\nCalled from file \"[23]\", line 1, characters 41-54\nCalled from file \"[23]\", line 1, characters 41-54\nCalled from file \"[23]\", line 1, characters 41-54\nCalled from file \"[23]\", line 1, characters 41-54\nCalled from file \"[23]\", line 1, characters 41-54\nCalled from file \"[23]\", line 1, characters 41-54\nCalled from file \"[23]\", line 1, characters 41-54\nCalled from file \"[23]\", line 1, characters 41-54\nCalled from file \"[23]\", line 1, characters 41-54\nCalled from file \"[23]\", line 1, characters 41-54\nCalled from file \"[23]\", line 1, characters 41-54\nCalled from file \"[23]\", line 1, characters 41-54\nCalled from file \"[23]\", line 1, characters 41-54\nCalled from file \"[23]\", line 1, characters 41-54\nCalled from file \"[23]\", line 1, characters 41-54\nCalled from file \"[23]\", line 1, characters 41-54\nCalled from file \"[23]\", line 1, characters 41-54\nCalled from file \"[23]\", line 1, characters 41-54\nCalled from file \"[23]\", line 1, characters 41-54\nCalled from file \"[23]\", line 1, characters 41-54\nCalled from file \"[23]\", line 1, characters 41-54\nCalled from file \"[23]\", line 1, characters 41-54\nCalled from file \"[23]\", line 1, characters 41-54\nCalled from file \"[23]\", line 1, characters 41-54\nCalled from file \"[23]\", line 1, characters 41-54\nCalled from file \"[23]\", line 1, characters 41-54\nCalled from file \"[23]\", line 1, characters 41-54\nCalled from file \"[23]\", line 1, characters 41-54\nCalled from file \"[23]\", line 1, characters 41-54\nCalled from file \"[23]\", line 1, characters 41-54\nCalled from file \"[23]\", line 1, characters 41-54\nCalled from file \"[23]\", line 1, characters 41-54\nCalled from file \"[23]\", line 1, characters 41-54\nCalled from file \"[23]\", line 1, characters 41-54\nCalled from file \"[23]\", line 1, characters 41-54\nCalled from file \"[23]\", line 1, characters 41-54\nCalled from file \"[23]\", line 1, characters 41-54\nCalled from file \"[23]\", line 1, characters 41-54\nCalled from file \"[23]\", line 1, characters 41-54\nCalled from file \"[23]\", line 1, characters 41-54\nCalled from file \"[23]\", line 1, characters 41-54\nCalled from file \"[23]\", line 1, characters 41-54\nCalled from file \"[23]\", line 1, characters 41-54\nCalled from file \"[23]\", line 1, characters 41-54\nCalled from file \"[23]\", line 1, characters 41-54\nCalled from file \"[23]\", line 1, characters 41-54\nCalled from file \"[23]\", line 1, characters 41-54\nCalled from file \"[23]\", line 1, characters 41-54\nCalled from file \"[23]\", line 1, characters 41-54\nCalled from file \"[23]\", line 1, characters 41-54\nCalled from file \"[23]\", line 1, characters 41-54\nCalled from file \"[23]\", line 1, characters 41-54\nCalled from file \"[23]\", line 1, characters 41-54\nCalled from file \"[23]\", line 1, characters 41-54\nCalled from file \"[23]\", line 1, characters 41-54\nCalled from file \"[23]\", line 1, characters 41-54\nCalled from file \"[23]\", line 1, characters 41-54\nCalled from file \"[23]\", line 1, characters 41-54\nCalled from file \"[23]\", line 1, characters 41-54\nCalled from file \"[23]\", line 1, characters 41-54\nCalled from file \"[23]\", line 1, characters 41-54\nCalled from file \"[23]\", line 1, characters 41-54\nCalled from file \"[23]\", line 1, characters 41-54\nCalled from file \"[23]\", line 1, characters 41-54\nCalled from file \"[23]\", line 1, characters 41-54\nCalled from file \"[23]\", line 1, characters 41-54\nCalled from file \"[23]\", line 1, characters 41-54\nCalled from file \"[23]\", line 1, characters 41-54\nCalled from file \"[23]\", line 1, characters 41-54\nCalled from file \"[23]\", line 1, characters 41-54\nCalled from file \"[23]\", line 1, characters 41-54\nCalled from file \"[23]\", line 1, characters 41-54\nCalled from file \"[23]\", line 1, characters 41-54\nCalled from file \"[23]\", line 1, characters 41-54\nCalled from file \"[23]\", line 1, characters 41-54\nCalled from file \"[23]\", line 1, characters 41-54\nCalled from file \"[23]\", line 1, characters 41-54\nCalled from file \"[23]\", line 1, characters 41-54\nCalled from file \"[23]\", line 1, characters 41-54\nCalled from file \"[23]\", line 1, characters 41-54\nCalled from file \"[23]\", line 1, characters 41-54\nCalled from file \"[23]\", line 1, characters 41-54\nCalled from file \"[23]\", line 1, characters 41-54\nCalled from file \"[23]\", line 1, characters 41-54\nCalled from file \"[23]\", line 1, characters 41-54\nCalled from file \"[23]\", line 1, characters 41-54\nCalled from file \"[23]\", line 1, characters 41-54\nCalled from file \"[23]\", line 1, characters 41-54\nCalled from file \"[23]\", line 1, characters 41-54\nCalled from file \"[23]\", line 1, characters 41-54\nCalled from file \"[23]\", line 1, characters 41-54\nCalled from file \"[23]\", line 1, characters 41-54\nCalled from file \"[23]\", line 1, characters 41-54\nCalled from file \"[23]\", line 1, characters 41-54\nCalled from file \"[23]\", line 1, characters 41-54\nCalled from file \"[23]\", line 1, characters 41-54\nCalled from file \"[23]\", line 1, characters 41-54\nCalled from file \"[23]\", line 1, characters 41-54\nCalled from file \"[23]\", line 1, characters 41-54\nCalled from file \"[23]\", line 1, characters 41-54\nCalled from file \"[23]\", line 1, characters 41-54\nCalled from file \"[23]\", line 1, characters 41-54\nCalled from file \"[23]\", line 1, characters 41-54\nCalled from file \"[23]\", line 1, characters 41-54\nCalled from file \"[23]\", line 1, characters 41-54\nCalled from file \"[23]\", line 1, characters 41-54\nCalled from file \"[23]\", line 1, characters 41-54\nCalled from file \"[23]\", line 1, characters 41-54\nCalled from file \"[23]\", line 1, characters 41-54\nCalled from file \"[23]\", line 1, characters 41-54\nCalled from file \"[23]\", line 1, characters 41-54\nCalled from file \"[23]\", line 1, characters 41-54\nCalled from file \"[23]\", line 1, characters 41-54\nCalled from file \"[23]\", line 1, characters 41-54\nCalled from file \"[23]\", line 1, characters 41-54\nCalled from file \"[23]\", line 1, characters 41-54\nCalled from file \"[23]\", line 1, characters 41-54\nCalled from file \"[23]\", line 1, characters 41-54\nCalled from file \"[23]\", line 1, characters 41-54\nCalled from file \"[23]\", line 1, characters 41-54\nCalled from file \"[23]\", line 1, characters 41-54\nCalled from file \"[23]\", line 1, characters 41-54\nCalled from file \"[23]\", line 1, characters 41-54\nCalled from file \"[23]\", line 1, characters 41-54\nCalled from file \"[23]\", line 1, characters 41-54\nCalled from file \"[23]\", line 1, characters 41-54\nCalled from file \"[23]\", line 1, characters 41-54\nCalled from file \"[23]\", line 1, characters 41-54\nCalled from file \"[23]\", line 1, characters 41-54\nCalled from file \"[23]\", line 1, characters 41-54\nCalled from file \"[23]\", line 1, characters 41-54\nCalled from file \"[23]\", line 1, characters 41-54\nCalled from file \"[23]\", line 1, characters 41-54\nCalled from file \"[23]\", line 1, characters 41-54\nCalled from file \"[23]\", line 1, characters 41-54\nCalled from file \"[23]\", line 1, characters 41-54\nCalled from file \"[23]\", line 1, characters 41-54\nCalled from file \"[23]\", line 1, characters 41-54\nCalled from file \"[23]\", line 1, characters 41-54\nCalled from file \"[23]\", line 1, characters 41-54\nCalled from file \"[23]\", line 1, characters 41-54\nCalled from file \"[23]\", line 1, characters 41-54\nCalled from file \"[23]\", line 1, characters 41-54\nCalled from file \"[23]\", line 1, characters 41-54\nCalled from file \"[23]\", line 1, characters 41-54\nCalled from file \"[23]\", line 1, characters 41-54\nCalled from file \"[23]\", line 1, characters 41-54\nCalled from file \"[23]\", line 1, characters 41-54\nCalled from file \"[23]\", line 1, characters 41-54\nCalled from file \"[23]\", line 1, characters 41-54\nCalled from file \"[23]\", line 1, characters 41-54\nCalled from file \"[23]\", line 1, characters 41-54\nCalled from file \"[23]\", line 1, characters 41-54\nCalled from file \"[23]\", line 1, characters 41-54\nCalled from file \"[23]\", line 1, characters 41-54\nCalled from file \"[23]\", line 1, characters 41-54\nCalled from file \"[23]\", line 1, characters 41-54\nCalled from file \"[23]\", line 1, characters 41-54\nCalled from file \"[23]\", line 1, characters 41-54\nCalled from file \"[23]\", line 1, characters 41-54\nCalled from file \"[23]\", line 1, characters 41-54\nCalled from file \"[23]\", line 1, characters 41-54\nCalled from file \"[23]\", line 1, characters 41-54\nCalled from file \"[23]\", line 1, characters 41-54\nCalled from file \"[23]\", line 1, characters 41-54\nCalled from file \"[23]\", line 1, characters 41-54\nCalled from file \"[23]\", line 1, characters 41-54\nCalled from file \"[23]\", line 1, characters 41-54\nCalled from file \"[23]\", line 1, characters 41-54\nCalled from file \"[23]\", line 1, characters 41-54\nCalled from file \"[23]\", line 1, characters 41-54\nCalled from file \"[23]\", line 1, characters 41-54\nCalled from file \"[23]\", line 1, characters 41-54\nCalled from file \"[23]\", line 1, characters 41-54\nCalled from file \"[23]\", line 1, characters 41-54\nCalled from file \"[23]\", line 1, characters 41-54\nCalled from file \"[23]\", line 1, characters 41-54\nCalled from file \"[23]\", line 1, characters 41-54\nCalled from file \"[23]\", line 1, characters 41-54\nCalled from file \"[23]\", line 1, characters 41-54\nCalled from file \"[23]\", line 1, characters 41-54\nCalled from file \"[23]\", line 1, characters 41-54\nCalled from file \"[23]\", line 1, characters 41-54\nCalled from file \"[23]\", line 1, characters 41-54\nCalled from file \"[23]\", line 1, characters 41-54\nCalled from file \"[23]\", line 1, characters 41-54\nCalled from file \"[23]\", line 1, characters 41-54\nCalled from file \"[23]\", line 1, characters 41-54\nCalled from file \"[23]\", line 1, characters 41-54\nCalled from file \"[23]\", line 1, characters 41-54\nCalled from file \"[23]\", line 1, characters 41-54\nCalled from file \"[23]\", line 1, characters 41-54\nCalled from file \"[23]\", line 1, characters 41-54\nCalled from file \"[23]\", line 1, characters 41-54\nCalled from file \"[23]\", line 1, characters 41-54\nCalled from file \"[23]\", line 1, characters 41-54\nCalled from file \"[23]\", line 1, characters 41-54\nCalled from file \"[23]\", line 1, characters 41-54\nCalled from file \"[23]\", line 1, characters 41-54\nCalled from file \"[23]\", line 1, characters 41-54\nCalled from file \"[23]\", line 1, characters 41-54\nCalled from file \"[23]\", line 1, characters 41-54\nCalled from file \"[23]\", line 1, characters 41-54\nCalled from file \"[23]\", line 1, characters 41-54\nCalled from file \"[23]\", line 1, characters 41-54\nCalled from file \"[23]\", line 1, characters 41-54\nCalled from file \"[23]\", line 1, characters 41-54\nCalled from file \"[23]\", line 1, characters 41-54\nCalled from file \"[23]\", line 1, characters 41-54\nCalled from file \"[23]\", line 1, characters 41-54\nCalled from file \"[23]\", line 1, characters 41-54\nCalled from file \"[23]\", line 1, characters 41-54\nCalled from file \"[23]\", line 1, characters 41-54\nCalled from file \"[23]\", line 1, characters 41-54\nCalled from file \"[23]\", line 1, characters 41-54\nCalled from file \"[23]\", line 1, characters 41-54\nCalled from file \"[23]\", line 1, characters 41-54\nCalled from file \"[23]\", line 1, characters 41-54\nCalled from file \"[23]\", line 1, characters 41-54\nCalled from file \"[23]\", line 1, characters 41-54\nCalled from file \"[23]\", line 1, characters 41-54\nCalled from file \"[23]\", line 1, characters 41-54\nCalled from file \"[23]\", line 1, characters 41-54\nCalled from file \"[23]\", line 1, characters 41-54\nCalled from file \"[23]\", line 1, characters 41-54\nCalled from file \"[23]\", line 1, characters 41-54\nCalled from file \"[23]\", line 1, characters 41-54\nCalled from file \"[23]\", line 1, characters 41-54\nCalled from file \"[23]\", line 1, characters 41-54\nCalled from file \"[23]\", line 1, characters 41-54\nCalled from file \"[23]\", line 1, characters 41-54\nCalled from file \"[23]\", line 1, characters 41-54\nCalled from file \"[23]\", line 1, characters 41-54\nCalled from file \"[23]\", line 1, characters 41-54\nCalled from file \"[23]\", line 1, characters 41-54\nCalled from file \"[23]\", line 1, characters 41-54\nCalled from file \"[23]\", line 1, characters 41-54\nCalled from file \"[23]\", line 1, characters 41-54\nCalled from file \"[23]\", line 1, characters 41-54\nCalled from file \"[23]\", line 1, characters 41-54\nCalled from file \"[23]\", line 1, characters 41-54\nCalled from file \"[23]\", line 1, characters 41-54\nCalled from file \"[23]\", line 1, characters 41-54\nCalled from file \"[23]\", line 1, characters 41-54\nCalled from file \"[23]\", line 1, characters 41-54\nCalled from file \"[23]\", line 1, characters 41-54\nCalled from file \"[23]\", line 1, characters 41-54\nCalled from file \"[23]\", line 1, characters 41-54\nCalled from file \"[23]\", line 1, characters 41-54\nCalled from file \"[23]\", line 1, characters 41-54\nCalled from file \"[23]\", line 1, characters 41-54\nCalled from file \"[23]\", line 1, characters 41-54\nCalled from file \"[23]\", line 1, characters 41-54\nCalled from file \"[23]\", line 1, characters 41-54\nCalled from file \"[23]\", line 1, characters 41-54\nCalled from file \"[23]\", line 1, characters 41-54\nCalled from file \"[23]\", line 1, characters 41-54\nCalled from file \"[23]\", line 1, characters 41-54\nCalled from file \"[23]\", line 1, characters 41-54\nCalled from file \"[23]\", line 1, characters 41-54\nCalled from file \"[23]\", line 1, characters 41-54\nCalled from file \"[23]\", line 1, characters 41-54\nCalled from file \"[23]\", line 1, characters 41-54\nCalled from file \"[23]\", line 1, characters 41-54\nCalled from file \"[23]\", line 1, characters 41-54\nCalled from file \"[23]\", line 1, characters 41-54\nCalled from file \"[23]\", line 1, characters 41-54\nCalled from file \"[23]\", line 1, characters 41-54\nCalled from file \"[23]\", line 1, characters 41-54\nCalled from file \"[23]\", line 1, characters 41-54\nCalled from file \"[23]\", line 1, characters 41-54\nCalled from file \"[23]\", line 1, characters 41-54\nCalled from file \"[23]\", line 1, characters 41-54\nCalled from file \"[23]\", line 1, characters 41-54\nCalled from file \"[23]\", line 1, characters 41-54\nCalled from file \"[23]\", line 1, characters 41-54\nCalled from file \"[23]\", line 1, characters 41-54\nCalled from file \"[23]\", line 1, characters 41-54\nCalled from file \"[23]\", line 1, characters 41-54\nCalled from file \"[23]\", line 1, characters 41-54\nCalled from file \"[23]\", line 1, characters 41-54\nCalled from file \"[23]\", line 1, characters 41-54\nCalled from file \"[23]\", line 1, characters 41-54\nCalled from file \"[23]\", line 1, characters 41-54\nCalled from file \"[23]\", line 1, characters 41-54\nCalled from file \"[23]\", line 1, characters 41-54\nCalled from file \"[23]\", line 1, characters 41-54\nCalled from file \"[23]\", line 1, characters 41-54\nCalled from file \"[23]\", line 1, characters 41-54\nCalled from file \"[23]\", line 1, characters 41-54\nCalled from file \"[23]\", line 1, characters 41-54\nCalled from file \"[23]\", line 1, characters 41-54\nCalled from file \"[23]\", line 1, characters 41-54\nCalled from file \"[23]\", line 1, characters 41-54\nCalled from file \"[23]\", line 1, characters 41-54\nCalled from file \"[23]\", line 1, characters 41-54\nCalled from file \"[23]\", line 1, characters 41-54\nCalled from file \"[23]\", line 1, characters 41-54\nCalled from file \"[23]\", line 1, characters 41-54\nCalled from file \"[23]\", line 1, characters 41-54\nCalled from file \"[23]\", line 1, characters 41-54\nCalled from file \"[23]\", line 1, characters 41-54\nCalled from file \"[23]\", line 1, characters 41-54\nCalled from file \"[23]\", line 1, characters 41-54\nCalled from file \"[23]\", line 1, characters 41-54\nCalled from file \"[23]\", line 1, characters 41-54\nCalled from file \"[23]\", line 1, characters 41-54\nCalled from file \"[23]\", line 1, characters 41-54\nCalled from file \"[23]\", line 1, characters 41-54\nCalled from file \"[23]\", line 1, characters 41-54\nCalled from file \"[23]\", line 1, characters 41-54\nCalled from file \"[23]\", line 1, characters 41-54\nCalled from file \"[23]\", line 1, characters 41-54\nCalled from file \"[23]\", line 1, characters 41-54\nCalled from file \"[23]\", line 1, characters 41-54\nCalled from file \"[23]\", line 1, characters 41-54\nCalled from file \"[23]\", line 1, characters 41-54\nCalled from file \"[23]\", line 1, characters 41-54\nCalled from file \"[23]\", line 1, characters 41-54\nCalled from file \"[23]\", line 1, characters 41-54\nCalled from file \"[23]\", line 1, characters 41-54\nCalled from file \"[23]\", line 1, characters 41-54\nCalled from file \"[23]\", line 1, characters 41-54\nCalled from file \"[23]\", line 1, characters 41-54\nCalled from file \"[23]\", line 1, characters 41-54\nCalled from file \"[23]\", line 1, characters 41-54\nCalled from file \"[23]\", line 1, characters 41-54\nCalled from file \"[23]\", line 1, characters 41-54\nCalled from file \"[23]\", line 1, characters 41-54\nCalled from file \"[23]\", line 1, characters 41-54\nCalled from file \"[23]\", line 1, characters 41-54\nCalled from file \"[23]\", line 1, characters 41-54\nCalled from file \"[23]\", line 1, characters 41-54\nCalled from file \"[23]\", line 1, characters 41-54\nCalled from file \"[23]\", line 1, characters 41-54\nCalled from file \"[23]\", line 1, characters 41-54\nCalled from file \"[23]\", line 1, characters 41-54\nCalled from file \"[23]\", line 1, characters 41-54\nCalled from file \"[23]\", line 1, characters 41-54\nCalled from file \"[23]\", line 1, characters 41-54\nCalled from file \"[23]\", line 1, characters 41-54\nCalled from file \"[23]\", line 1, characters 41-54\nCalled from file \"[23]\", line 1, characters 41-54\nCalled from file \"[23]\", line 1, characters 41-54\nCalled from file \"[23]\", line 1, characters 41-54\nCalled from file \"[23]\", line 1, characters 41-54\nCalled from file \"[23]\", line 1, characters 41-54\nCalled from file \"[23]\", line 1, characters 41-54\nCalled from file \"[23]\", line 1, characters 41-54\nCalled from file \"[23]\", line 1, characters 41-54\nCalled from file \"[23]\", line 1, characters 41-54\nCalled from file \"[23]\", line 1, characters 41-54\nCalled from file \"[23]\", line 1, characters 41-54\nCalled from file \"[23]\", line 1, characters 41-54\nCalled from file \"[23]\", line 1, characters 41-54\nCalled from file \"[23]\", line 1, characters 41-54\nCalled from file \"[23]\", line 1, characters 41-54\nCalled from file \"[23]\", line 1, characters 41-54\nCalled from file \"[23]\", line 1, characters 41-54\nCalled from file \"[23]\", line 1, characters 41-54\nCalled from file \"[23]\", line 1, characters 41-54\nCalled from file \"[23]\", line 1, characters 41-54\nCalled from file \"[23]\", line 1, characters 41-54\nCalled from file \"[23]\", line 1, characters 41-54\nCalled from file \"[23]\", line 1, characters 41-54\nCalled from file \"[23]\", line 1, characters 41-54\nCalled from file \"[23]\", line 1, characters 41-54\nCalled from file \"[23]\", line 1, characters 41-54\nCalled from file \"[23]\", line 1, characters 41-54\nCalled from file \"[23]\", line 1, characters 41-54\nCalled from file \"[23]\", line 1, characters 41-54\nCalled from file \"[23]\", line 1, characters 41-54\nCalled from file \"[23]\", line 1, characters 41-54\nCalled from file \"[23]\", line 1, characters 41-54\nCalled from file \"[23]\", line 1, characters 41-54\nCalled from file \"[23]\", line 1, characters 41-54\nCalled from file \"[23]\", line 1, characters 41-54\nCalled from file \"[23]\", line 1, characters 41-54\nCalled from file \"[23]\", line 1, characters 41-54\nCalled from file \"[23]\", line 1, characters 41-54\nCalled from file \"[23]\", line 1, characters 41-54\nCalled from file \"[23]\", line 1, characters 41-54\nCalled from file \"[23]\", line 1, characters 41-54\nCalled from file \"[23]\", line 1, characters 41-54\nCalled from file \"[23]\", line 1, characters 41-54\nCalled from file \"[23]\", line 1, characters 41-54\nCalled from file \"[23]\", line 1, characters 41-54\nCalled from file \"[23]\", line 1, characters 41-54\nCalled from file \"[23]\", line 1, characters 41-54\nCalled from file \"[23]\", line 1, characters 41-54\nCalled from file \"[23]\", line 1, characters 41-54\nCalled from file \"[23]\", line 1, characters 41-54\nCalled from file \"[23]\", line 1, characters 41-54\nCalled from file \"[23]\", line 1, characters 41-54\nCalled from file \"[23]\", line 1, characters 41-54\nCalled from file \"[23]\", line 1, characters 41-54\nCalled from file \"[23]\", line 1, characters 41-54\nCalled from file \"[23]\", line 1, characters 41-54\nCalled from file \"[23]\", line 1, characters 41-54\nCalled from file \"[23]\", line 1, characters 41-54\nCalled from file \"[23]\", line 1, characters 41-54\nCalled from file \"[23]\", line 1, characters 41-54\nCalled from file \"[23]\", line 1, characters 41-54\nCalled from file \"[23]\", line 1, characters 41-54\nCalled from file \"[23]\", line 1, characters 41-54\nCalled from file \"[23]\", line 1, characters 41-54\nCalled from file \"[23]\", line 1, characters 41-54\nCalled from file \"[23]\", line 1, characters 41-54\nCalled from file \"[23]\", line 1, characters 41-54\nCalled from file \"[23]\", line 1, characters 41-54\nCalled from file \"[23]\", line 1, characters 41-54\nCalled from file \"[23]\", line 1, characters 41-54\nCalled from file \"[23]\", line 1, characters 41-54\nCalled from file \"[23]\", line 1, characters 41-54\nCalled from file \"[23]\", line 1, characters 41-54\nCalled from file \"[23]\", line 1, characters 41-54\nCalled from file \"[23]\", line 1, characters 41-54\nCalled from file \"[23]\", line 1, characters 41-54\nCalled from file \"[23]\", line 1, characters 41-54\nCalled from file \"[23]\", line 1, characters 41-54\nCalled from file \"[23]\", line 1, characters 41-54\nCalled from file \"[23]\", line 1, characters 41-54\nCalled from file \"[23]\", line 1, characters 41-54\nCalled from file \"[23]\", line 1, characters 41-54\nCalled from file \"[23]\", line 1, characters 41-54\nCalled from file \"[23]\", line 1, characters 41-54\nCalled from file \"[23]\", line 1, characters 41-54\nCalled from file \"[23]\", line 1, characters 41-54\nCalled from file \"[23]\", line 1, characters 41-54\nCalled from file \"[23]\", line 1, characters 41-54\nCalled from file \"[23]\", line 1, characters 41-54\nCalled from file \"[23]\", line 1, characters 41-54\nCalled from file \"[23]\", line 1, characters 41-54\nCalled from file \"[23]\", line 1, characters 41-54\nCalled from file \"[23]\", line 1, characters 41-54\nCalled from file \"[23]\", line 1, characters 41-54\nCalled from file \"[23]\", line 1, characters 41-54\nCalled from file \"[23]\", line 1, characters 41-54\nCalled from file \"[23]\", line 1, characters 41-54\nCalled from file \"[23]\", line 1, characters 41-54\nCalled from file \"[23]\", line 1, characters 41-54\nCalled from file \"[23]\", line 1, characters 41-54\nCalled from file \"[23]\", line 1, characters 41-54\nCalled from file \"[23]\", line 1, characters 41-54\nCalled from file \"[23]\", line 1, characters 41-54\nCalled from file \"[23]\", line 1, characters 41-54\nCalled from file \"[23]\", line 1, characters 41-54\nCalled from file \"[23]\", line 1, characters 41-54\nCalled from file \"[23]\", line 1, characters 41-54\nCalled from file \"[23]\", line 1, characters 41-54\nCalled from file \"[23]\", line 1, characters 41-54\nCalled from file \"[23]\", line 1, characters 41-54\nCalled from file \"[23]\", line 1, characters 41-54\nCalled from file \"[23]\", line 1, characters 41-54\nCalled from file \"[23]\", line 1, characters 41-54\nCalled from file \"[23]\", line 1, characters 41-54\nCalled from file \"[23]\", line 1, characters 41-54\nCalled from file \"[23]\", line 1, characters 41-54\nCalled from file \"[23]\", line 1, characters 41-54\nCalled from file \"[23]\", line 1, characters 41-54\nCalled from file \"[23]\", line 1, characters 41-54\nCalled from file \"[23]\", line 1, characters 41-54\nCalled from file \"[23]\", line 1, characters 41-54\nCalled from file \"[23]\", line 1, characters 41-54\nCalled from file \"[23]\", line 1, characters 41-54\nCalled from file \"[23]\", line 1, characters 41-54\nCalled from file \"[23]\", line 1, characters 41-54\nCalled from file \"[23]\", line 1, characters 41-54\nCalled from file \"[23]\", line 1, characters 41-54\nCalled from file \"[23]\", line 1, characters 41-54\nCalled from file \"[23]\", line 1, characters 41-54\nCalled from file \"[23]\", line 1, characters 41-54\nCalled from file \"[23]\", line 1, characters 41-54\nCalled from file \"[23]\", line 1, characters 41-54\n\u001b[0m"
     ]
    }
   ],
   "source": [
    "let rec count n = if n=0 then 0 else 1 + count (n - 1);;\n",
    "count 1000000"
   ]
  },
  {
   "cell_type": "code",
   "execution_count": 24,
   "metadata": {},
   "outputs": [
    {
     "data": {
      "text/plain": [
       "val count : int -> int -> int = <fun>\n"
      ]
     },
     "execution_count": 24,
     "metadata": {},
     "output_type": "execute_result"
    },
    {
     "data": {
      "text/plain": [
       "val count_tr : int -> int = <fun>\n"
      ]
     },
     "execution_count": 24,
     "metadata": {},
     "output_type": "execute_result"
    },
    {
     "data": {
      "text/plain": [
       "- : int = 100000000\n"
      ]
     },
     "execution_count": 24,
     "metadata": {},
     "output_type": "execute_result"
    }
   ],
   "source": [
    "let rec count n acc = if n = 0 then acc else count (n-1) (acc + 1);;\n",
    "let count_tr n = count n 0;;\n",
    "count_tr 100000000\n",
    "(* This is tail recursion*)"
   ]
  },
  {
   "cell_type": "code",
   "execution_count": 32,
   "metadata": {},
   "outputs": [
    {
     "data": {
      "text/plain": [
       "val fact : int -> int -> int = <fun>\n"
      ]
     },
     "execution_count": 32,
     "metadata": {},
     "output_type": "execute_result"
    },
    {
     "data": {
      "text/plain": [
       "val fact_tr : int -> int = <fun>\n"
      ]
     },
     "execution_count": 32,
     "metadata": {},
     "output_type": "execute_result"
    },
    {
     "data": {
      "text/plain": [
       "- : int = 0\n"
      ]
     },
     "execution_count": 32,
     "metadata": {},
     "output_type": "execute_result"
    }
   ],
   "source": [
    "let rec fact n acc = if n = 0 then acc else fact (n-1) (n * acc);;\n",
    "let fact_tr n = fact n 1;;\n",
    "fact_tr 100"
   ]
  },
  {
   "cell_type": "code",
   "execution_count": 26,
   "metadata": {},
   "outputs": [
    {
     "data": {
      "text/plain": [
       "val zfact_aux : Z.t -> Z.t -> Z.t = <fun>\n"
      ]
     },
     "execution_count": 26,
     "metadata": {},
     "output_type": "execute_result"
    },
    {
     "data": {
      "text/plain": [
       "val zfact_tr : Z.t -> Z.t = <fun>\n"
      ]
     },
     "execution_count": 26,
     "metadata": {},
     "output_type": "execute_result"
    },
    {
     "data": {
      "text/plain": [
       "- : Z.t = 30414093201713378043612608166064768844377641568960512000000000000\n"
      ]
     },
     "execution_count": 26,
     "metadata": {},
     "output_type": "execute_result"
    }
   ],
   "source": [
    "#require \"zarith.top\";;\n",
    "let rec zfact_aux n acc =\n",
    "if Z.equal n Z.zero then acc else zfact_aux (Z.pred n) (Z.mul acc n);;\n",
    "let zfact_tr n = zfact_aux n Z.one;;\n",
    "zfact_tr (Z.of_int 50)"
   ]
  },
  {
   "cell_type": "code",
   "execution_count": 27,
   "metadata": {},
   "outputs": [
    {
     "data": {
      "text/plain": [
       "val lst : 'a list = []\n"
      ]
     },
     "execution_count": 27,
     "metadata": {},
     "output_type": "execute_result"
    },
    {
     "data": {
      "text/plain": [
       "- : int list = [4; 6]\n"
      ]
     },
     "execution_count": 27,
     "metadata": {},
     "output_type": "execute_result"
    }
   ],
   "source": [
    "let lst = [];;\n",
    "4::6::lst;"
   ]
  },
  {
   "cell_type": "code",
   "execution_count": 35,
   "metadata": {},
   "outputs": [
    {
     "data": {
      "text/plain": [
       "val sum_lst : int list -> int = <fun>\n"
      ]
     },
     "execution_count": 35,
     "metadata": {},
     "output_type": "execute_result"
    },
    {
     "data": {
      "text/plain": [
       "val lst : int list = [4; 6; 7; 10]\n"
      ]
     },
     "execution_count": 35,
     "metadata": {},
     "output_type": "execute_result"
    },
    {
     "data": {
      "text/plain": [
       "- : int = 27\n"
      ]
     },
     "execution_count": 35,
     "metadata": {},
     "output_type": "execute_result"
    }
   ],
   "source": [
    "let rec sum_lst lst = \n",
    "match lst with\n",
    "| [] -> 0\n",
    "| h :: t -> h + sum_lst t;;\n",
    "let lst = [4;6;7;10];;\n",
    "sum_lst lst"
   ]
  },
  {
   "cell_type": "code",
   "execution_count": 42,
   "metadata": {},
   "outputs": [
    {
     "data": {
      "text/plain": [
       "val empty_lst : 'a list -> bool = <fun>\n"
      ]
     },
     "execution_count": 42,
     "metadata": {},
     "output_type": "execute_result"
    },
    {
     "data": {
      "text/plain": [
       "val lst : int list = [4; 6; 8]\n"
      ]
     },
     "execution_count": 42,
     "metadata": {},
     "output_type": "execute_result"
    },
    {
     "data": {
      "text/plain": [
       "val lst2 : 'a list = []\n"
      ]
     },
     "execution_count": 42,
     "metadata": {},
     "output_type": "execute_result"
    },
    {
     "data": {
      "text/plain": [
       "- : bool = false\n"
      ]
     },
     "execution_count": 42,
     "metadata": {},
     "output_type": "execute_result"
    }
   ],
   "source": [
    "let rec empty_lst lst =\n",
    "match lst with\n",
    "| [] -> true\n",
    "| h :: t -> false;;\n",
    "let lst = [4;6;8];;\n",
    "let lst2 = [];;\n",
    "empty_lst lst;;"
   ]
  },
  {
   "cell_type": "code",
   "execution_count": 41,
   "metadata": {},
   "outputs": [
    {
     "data": {
      "text/plain": [
       "val empty_lst : 'a list -> bool = <fun>\n"
      ]
     },
     "execution_count": 41,
     "metadata": {},
     "output_type": "execute_result"
    },
    {
     "data": {
      "text/plain": [
       "val lst : int list = [4; 6; 8]\n"
      ]
     },
     "execution_count": 41,
     "metadata": {},
     "output_type": "execute_result"
    },
    {
     "data": {
      "text/plain": [
       "val lst2 : 'a list = []\n"
      ]
     },
     "execution_count": 41,
     "metadata": {},
     "output_type": "execute_result"
    },
    {
     "data": {
      "text/plain": [
       "- : bool = true\n"
      ]
     },
     "execution_count": 41,
     "metadata": {},
     "output_type": "execute_result"
    }
   ],
   "source": [
    "let rec empty_lst lst =\n",
    "match lst with\n",
    "| [] -> true\n",
    "| h :: t -> false;;\n",
    "let lst = [4;6;8];;\n",
    "let lst2 = [];;\n",
    "empty_lst lst2;;"
   ]
  },
  {
   "cell_type": "code",
   "execution_count": 44,
   "metadata": {},
   "outputs": [
    {
     "data": {
      "text/plain": [
       "val inc_first : int list -> int list = <fun>\n"
      ]
     },
     "execution_count": 44,
     "metadata": {},
     "output_type": "execute_result"
    },
    {
     "data": {
      "text/plain": [
       "val lst : int list = [4; 6; 8]\n"
      ]
     },
     "execution_count": 44,
     "metadata": {},
     "output_type": "execute_result"
    },
    {
     "data": {
      "text/plain": [
       "- : int list = [5; 6; 8]\n"
      ]
     },
     "execution_count": 44,
     "metadata": {},
     "output_type": "execute_result"
    }
   ],
   "source": [
    "let inc_first lst =\n",
    "match lst with\n",
    "| [] -> []\n",
    "| h :: t -> h + 1 :: t;;\n",
    "let lst = [4;6;8];;\n",
    "inc_first lst"
   ]
  },
  {
   "cell_type": "code",
   "execution_count": 45,
   "metadata": {},
   "outputs": [
    {
     "data": {
      "text/plain": [
       "val a : string = \"aand\"\n"
      ]
     },
     "execution_count": 45,
     "metadata": {},
     "output_type": "execute_result"
    },
    {
     "data": {
      "text/plain": [
       "- : int = 4\n"
      ]
     },
     "execution_count": 45,
     "metadata": {},
     "output_type": "execute_result"
    }
   ],
   "source": [
    "let a = \"aand\";;\n",
    "String.length a"
   ]
  },
  {
   "cell_type": "code",
   "execution_count": 48,
   "metadata": {},
   "outputs": [
    {
     "data": {
      "text/plain": [
       "val a : int = 6\n"
      ]
     },
     "execution_count": 48,
     "metadata": {},
     "output_type": "execute_result"
    },
    {
     "data": {
      "text/plain": [
       "- : unit = ()\n"
      ]
     },
     "execution_count": 48,
     "metadata": {},
     "output_type": "execute_result"
    }
   ],
   "source": [
    "let a = 6;;\n",
    "Printf.printf \"%d\" a"
   ]
  },
  {
   "cell_type": "code",
   "execution_count": 5,
   "metadata": {},
   "outputs": [
    {
     "data": {
      "text/plain": [
       "val wa : int -> bool = <fun>\n"
      ]
     },
     "execution_count": 5,
     "metadata": {},
     "output_type": "execute_result"
    },
    {
     "data": {
      "text/plain": [
       "- : bool = false\n"
      ]
     },
     "execution_count": 5,
     "metadata": {},
     "output_type": "execute_result"
    }
   ],
   "source": [
    "let wa n = \n",
    "if n=2 then false\n",
    "else if n = (n/2)*2 then true\n",
    "else false i\n",
    "wa 5 "
   ]
  },
  {
   "cell_type": "code",
   "execution_count": null,
   "metadata": {},
   "outputs": [],
   "source": []
  }
 ],
 "metadata": {
  "kernelspec": {
   "display_name": "OCaml 4.10",
   "language": "OCaml",
   "name": "ocaml-jupyter"
  },
  "language_info": {
   "codemirror_mode": "text/x-ocaml",
   "file_extension": ".ml",
   "mimetype": "text/x-ocaml",
   "name": "OCaml",
   "nbconverter_exporter": null,
   "pygments_lexer": "OCaml",
   "version": "4.10.0"
  }
 },
 "nbformat": 4,
 "nbformat_minor": 4
}
